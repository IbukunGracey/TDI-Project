{
 "cells": [
  {
   "cell_type": "markdown",
   "metadata": {},
   "source": [
    "### Scraping WHO site for Outbreak of Diseases by Year Using python Beautiful soup\n",
    "1. General Cite: http://www.who.int/csr/don/en/\n",
    "2. For Diseases by Year http://www.who.int/csr/don/archive/year/en/"
   ]
  },
  {
   "cell_type": "code",
   "execution_count": 2,
   "metadata": {},
   "outputs": [
    {
     "data": {
      "text/plain": [
       "<Response [200]>"
      ]
     },
     "execution_count": 2,
     "metadata": {},
     "output_type": "execute_result"
    }
   ],
   "source": [
    "import requests\n",
    "#download the webpage, this returns a request as 200 meaning dowloaded\n",
    "page1996 = requests.get(\"http://www.who.int/csr/don/archive/year/1996/en/\")\n",
    "page1996"
   ]
  },
  {
   "cell_type": "markdown",
   "metadata": {},
   "source": [
    "### 1996"
   ]
  },
  {
   "cell_type": "code",
   "execution_count": 4,
   "metadata": {},
   "outputs": [],
   "source": [
    "#parsing the content of the page via html parser\n",
    "from bs4 import BeautifulSoup\n",
    "soup1 = BeautifulSoup(page1996.content, 'html.parser')"
   ]
  },
  {
   "cell_type": "code",
   "execution_count": null,
   "metadata": {},
   "outputs": [],
   "source": [
    "#printing html content formally in an ordered fashion\n",
    "#print(soup.prettify())"
   ]
  },
  {
   "cell_type": "code",
   "execution_count": 37,
   "metadata": {},
   "outputs": [],
   "source": [
    "auto1 = soup1.find(\"ul\", \"auto_archive\")\n",
    "auto1"
   ]
  },
  {
   "cell_type": "code",
   "execution_count": 8,
   "metadata": {},
   "outputs": [
    {
     "data": {
      "text/plain": [
       "['24 December 1996',\n",
       " '20 December 1996',\n",
       " '13 December 1996',\n",
       " '13 December 1996',\n",
       " '6 December 1996',\n",
       " '6 December 1996',\n",
       " '6 December 1996',\n",
       " '5 December 1996',\n",
       " '3 December 1996',\n",
       " '28 November 1996',\n",
       " '28 November 1996',\n",
       " '28 November 1996',\n",
       " '25 November 1996',\n",
       " '22 November 1996',\n",
       " '20 November 1996',\n",
       " '19 November 1996',\n",
       " '18 November 1996',\n",
       " '15 November 1996',\n",
       " '15 November 1996',\n",
       " '12 November 1996',\n",
       " '12 November 1996',\n",
       " '5 November 1996',\n",
       " '1 November 1996',\n",
       " '31 October 1996',\n",
       " '31 October 1996',\n",
       " '24 October 1996',\n",
       " '21 October 1996',\n",
       " '18 October 1996',\n",
       " '17 October 1996',\n",
       " '17 October 1996',\n",
       " '15 October 1996',\n",
       " '15 October 1996',\n",
       " '14 October 1996',\n",
       " '4 October 1996',\n",
       " '2 October 1996',\n",
       " '24 September 1996',\n",
       " '18 September 1996',\n",
       " '12 September 1996',\n",
       " '9 September 1996',\n",
       " '3 September 1996',\n",
       " '2 September 1996',\n",
       " '2 September 1996',\n",
       " '28 August 1996',\n",
       " '21 August 1996',\n",
       " '21 August 1996',\n",
       " '14 August 1996',\n",
       " '14 August 1996',\n",
       " '14 August 1996',\n",
       " '13 August 1996',\n",
       " '13 August 1996',\n",
       " '12 August 1996',\n",
       " '12 August 1996',\n",
       " '12 August 1996',\n",
       " '6 August 1996',\n",
       " '6 August 1996',\n",
       " '2 August 1996',\n",
       " '30 July 1996',\n",
       " '30 July 1996',\n",
       " '26 July 1996',\n",
       " '19 July 1996',\n",
       " '19 July 1996',\n",
       " '19 July 1996',\n",
       " '18 July 1996',\n",
       " '11 July 1996',\n",
       " '5 July 1996',\n",
       " '5 July 1996',\n",
       " '14 June 1996',\n",
       " '14 June 1996',\n",
       " '14 June 1996',\n",
       " '14 June 1996',\n",
       " '3 June 1996',\n",
       " '31 May 1996',\n",
       " '28 May 1996',\n",
       " '20 May 1996',\n",
       " '15 May 1996',\n",
       " '3 May 1996',\n",
       " '30 April 1996',\n",
       " '26 April 1996',\n",
       " '26 April 1996',\n",
       " '17 April 1996',\n",
       " '11 April 1996',\n",
       " '4 April 1996',\n",
       " '4 April 1996',\n",
       " '28 March 1996',\n",
       " '27 March 1996',\n",
       " '21 March 1996',\n",
       " '19 March 1996',\n",
       " '15 March 1996',\n",
       " '15 March 1996',\n",
       " '15 March 1996',\n",
       " '12 March 1996',\n",
       " '12 March 1996',\n",
       " '7 March 1996',\n",
       " '7 March 1996',\n",
       " '6 March 1996',\n",
       " '6 March 1996',\n",
       " '6 March 1996',\n",
       " '1 March 1996',\n",
       " '1 March 1996',\n",
       " '1 March 1996',\n",
       " '29 February 1996',\n",
       " '29 February 1996',\n",
       " '19 February 1996',\n",
       " '19 February 1996',\n",
       " '19 February 1996',\n",
       " '15 February 1996',\n",
       " '8 February 1996',\n",
       " '5 February 1996',\n",
       " '2 February 1996',\n",
       " '22 January 1996',\n",
       " '22 January 1996',\n",
       " '22 January 1996',\n",
       " '22 January 1996',\n",
       " '22 January 1996',\n",
       " '22 January 1996']"
      ]
     },
     "execution_count": 8,
     "metadata": {},
     "output_type": "execute_result"
    }
   ],
   "source": [
    "date_tags1 = auto1.find_all(\"a\")\n",
    "disease_date1= [pt.get_text() for pt in date_tags1]\n",
    "disease_date1"
   ]
  },
  {
   "cell_type": "code",
   "execution_count": 9,
   "metadata": {},
   "outputs": [
    {
     "data": {
      "text/plain": [
       "['1996 - Ebola haemorrhagic fever in Gabon (new outbreak) - Update 9',\n",
       " '1996 - Ebola haemorrhagic fever in Gabon (new outbreak) - Update 8',\n",
       " '1996 - Cholera in Rwanda and Zaire',\n",
       " '1996 - E.coli O157 infection in UK',\n",
       " '1996 - Ebola haemorrhagic fever in Gabon (new outbreak) - Update 7',\n",
       " '1996 - Yellow fever in Ghana - Update',\n",
       " '1996 - Cholera in refugees: Kigoma, Tanzania',\n",
       " '1996 - Yellow Fever in Ghana',\n",
       " '1996 - Health conditions for travellers to Saudi Arabia - Pilgrimage to Mecca (Hajj)',\n",
       " '1996 - Dengue/dengue haemorrhagic fever in India - Update 4',\n",
       " '1996 - Ebola haemorrhagic fever in South Africa - Update 2',\n",
       " '1996 - Rwanda repatriation movement',\n",
       " '1996 - Ebola haemorrhagic fever in Gabon (new outbreak) - Update 6',\n",
       " '1996 - Ebola haemorrhagic fever in South Africa - Update',\n",
       " '1996 - Dengue/dengue haemorrhagic fever in India - Update 3',\n",
       " '1996 - Ebola haemorrhagic fever in Gabon (new outbreak) - Update 5',\n",
       " '1996 - Ebola haemorrhagic fever in South Africa',\n",
       " '1996 - Dengue/dengue haemorrhagic fever in India - Update 2',\n",
       " '1996 - Cholera in Zaire (new outbreak)',\n",
       " '1996 - Ebola haemorrhagic fever in Gabon (new outbreak) - Update 4',\n",
       " '1996 - Dengue haemorrhagic fever in India',\n",
       " '1996 - Crimean-Congo Haemorrhagic Fever in South Africa',\n",
       " '1996 - Yellow fever in Benin - Update',\n",
       " '1996 - Dengue/dengue haemorrhagic fever in India - Update',\n",
       " '1996 - Yellow fever in travellers',\n",
       " '1996 - Dengue/dengue haemorrhagic fever in India - Update',\n",
       " '1996 - Ebola haemorrhagic fever in Gabon (new outbreak) - Update 3',\n",
       " '1996 - Ebola haemorrhagic fever in Gabon (new outbreak) - Update 2',\n",
       " '1996 - Dengue/dengue haemorrhagic fever in India',\n",
       " '1996 - Cholera in Africa',\n",
       " '1996 - Outbreak of viral meningitis in Romania',\n",
       " '1996 - Ebola haemorrhagic fever in Gabon (new outbreak) - Update',\n",
       " '1996 - Ebola haemorrhagic fever in Gabon (new outbreak)',\n",
       " '1996 - Japanese encephalitis in Nepal',\n",
       " '1996 - Yellow Fever in Benin',\n",
       " '1996 - Viral meningitis in Romania - Update 3',\n",
       " '1996 - Polio outbreak in Albania',\n",
       " '1996 - Cholera in the Philipines (new outbreak)',\n",
       " '1996 - Viral Meningitis in Romania - Update 2',\n",
       " '1996 - Viral Meningitis in Romania - Update',\n",
       " '1996 - Viral Meningitis in Romania - Suspected',\n",
       " '1996 - Meningitis in Uganda',\n",
       " '1996 - Enterohaemorrhagic Escherichia coli in Japan - Update',\n",
       " '1996 - Cholera in Mongolia - Update 2',\n",
       " '1996 - Viral meningitis in Cyprus - Update',\n",
       " '1996 - Cholera in Liberia',\n",
       " '1996 - Cerebrospinal meningitis in Mozambique - Update',\n",
       " '1996 - Cholera in Mongolia - Update',\n",
       " '1996 - Dengue/dengue haemorrhagic fever in Venezuela',\n",
       " '1996 - Cholera in Mongolia',\n",
       " '1996 - Outbreak of food-borne intoxication in India',\n",
       " '1996 - Viral meningitis in Cyprus',\n",
       " '1996 - Influenza and malaria in Ghana',\n",
       " '1996 - Typhoid fever in Tajikistan - Update',\n",
       " '1996 - Venezuelan Equine Encephalitis in Mexico',\n",
       " '1996 - Typhoid fever in Tajikistan',\n",
       " '1996 - Lassa fever in Sierra Leone - Update 3',\n",
       " '1996 - Cerebrospinal meningitis in Angola',\n",
       " '1996 - Enterohaemorrhagic Escherichia Coli in Japan',\n",
       " '1996 - Diphtheria in Laos and Thailand',\n",
       " '1996 - Cholera in Chad - Update',\n",
       " '1996 - Cholera in Nigeria - Update 4',\n",
       " '1996 - Dengue/dengue haemorrhagic fever in the Philippines and Malaysia',\n",
       " '1996 - Cerebrospinal meningitis in Mozambique',\n",
       " '1996 - Cholera in Chad',\n",
       " '1996 - Cholera in Zaire - Update',\n",
       " '1996 - Lassa fever in Sierra Leone - Update 2',\n",
       " '1996 - Dengue/dengue haemorrhagic fever in Malaysia and Indonesia',\n",
       " '1996 - Cholera in the Philippines',\n",
       " '1996 - Cholera in Malaysia',\n",
       " '1996 - Meningococcal infection in the Balearic Isles (Spain) - Update',\n",
       " '1996 - Meningococcal infection in Balearic Isles (Spain)',\n",
       " '1996 - Lassa fever in Sierra Leone - Confirmed',\n",
       " '1996 - Cholera in Malaysia',\n",
       " '1996 - Lassa fever in Sierra Leone - Suspected',\n",
       " '1996 - Meningococcal meningitis in Mali',\n",
       " '1996 - Ebola-Reston Investigation, Philippines - Update',\n",
       " '1996 - Cholera in Liberia',\n",
       " '1996 - Ebola haemorrhagic fever in Gabon - Update 3',\n",
       " '1996 - Ebola-like Reston virus in monkeys',\n",
       " '1996 - Buffalopox in India',\n",
       " '1996 - Bovine Spongiform Encephalopathy (BSE) - Update',\n",
       " '1996 - Cholera in Zaire',\n",
       " '1996 - Bovine Spongiform Encephalopathy (BSE)',\n",
       " '1996 - Cerebrospinal meningitis in Africa (summary) - Update 2',\n",
       " '1996 - Creutzfeldt-Jakob Disease (CJD)',\n",
       " '1996 - Cerebrospinal meningitis in Africa (summary) - Update',\n",
       " '1996 - Cholera in Nigeria - Update 3',\n",
       " '1996 - Cerebrospinal meningitis in Africa (summary)',\n",
       " '1996 - Cholera in Senegal',\n",
       " '1996 - Cerebrospinal meningitis in Chad',\n",
       " '1996 - Cerebrospinal meningitis in Nigeria - Update 2',\n",
       " '1996 - Cholera in Nigeria - Update 2',\n",
       " '1996 - Cerebrospinal meningitis in Nigeria - Update',\n",
       " '1996 - Global Cholera Update 2',\n",
       " '1996 - Meningococcal meningitis in Nigeria',\n",
       " '1996 - Cholera in Nigeria - Update',\n",
       " '1996 - Cholera in Nigeria',\n",
       " '1996 - Meningococcal meningitis in Nigeria',\n",
       " '1996 - Ebola haemorrhagic fever in Gabon - Update 2',\n",
       " '1996 - Cholera in Ecuador',\n",
       " '1996 - Ebola haemorrhagic fever in Gabon - Update',\n",
       " '1996 - Cerebrospinal meningitis in Burkina Faso',\n",
       " '1996 - Ebola haemorrhagic fever in Gabon',\n",
       " '1996 - Cerebrospinal meningitis in Nigeria',\n",
       " '1996 - Cholera in Africa',\n",
       " '1996 - Iran free of Cholera',\n",
       " '1996 - Haemorrhagic fever with renal syndrome in Bosnia and Herzegovina',\n",
       " '1996 - Yellow fever in Liberia',\n",
       " '1996 - Global Cholera Update',\n",
       " '1996 - Dengue in the Americas',\n",
       " \"1996 - Ebola infection in Côte d'Ivoire/Liberia\",\n",
       " '1996 - Meningococcal meningitis in Brazil',\n",
       " '1996 - Typhoid fever in Algeria',\n",
       " '1996 - Cholera in Burundi']"
      ]
     },
     "execution_count": 9,
     "metadata": {},
     "output_type": "execute_result"
    }
   ],
   "source": [
    "disease_tag1 = auto1.find_all(\"span\", \"link_info\")\n",
    "disease_name1= [pt.get_text() for pt in disease_tag1]\n",
    "disease_name1"
   ]
  },
  {
   "cell_type": "code",
   "execution_count": 11,
   "metadata": {},
   "outputs": [
    {
     "data": {
      "text/html": [
       "<div>\n",
       "<style scoped>\n",
       "    .dataframe tbody tr th:only-of-type {\n",
       "        vertical-align: middle;\n",
       "    }\n",
       "\n",
       "    .dataframe tbody tr th {\n",
       "        vertical-align: top;\n",
       "    }\n",
       "\n",
       "    .dataframe thead th {\n",
       "        text-align: right;\n",
       "    }\n",
       "</style>\n",
       "<table border=\"1\" class=\"dataframe\">\n",
       "  <thead>\n",
       "    <tr style=\"text-align: right;\">\n",
       "      <th></th>\n",
       "      <th>Date</th>\n",
       "      <th>Disease Name</th>\n",
       "    </tr>\n",
       "  </thead>\n",
       "  <tbody>\n",
       "    <tr>\n",
       "      <th>0</th>\n",
       "      <td>24 December 1996</td>\n",
       "      <td>1996 - Ebola haemorrhagic fever in Gabon (new ...</td>\n",
       "    </tr>\n",
       "    <tr>\n",
       "      <th>1</th>\n",
       "      <td>20 December 1996</td>\n",
       "      <td>1996 - Ebola haemorrhagic fever in Gabon (new ...</td>\n",
       "    </tr>\n",
       "    <tr>\n",
       "      <th>2</th>\n",
       "      <td>13 December 1996</td>\n",
       "      <td>1996 - Cholera in Rwanda and Zaire</td>\n",
       "    </tr>\n",
       "    <tr>\n",
       "      <th>3</th>\n",
       "      <td>13 December 1996</td>\n",
       "      <td>1996 - E.coli O157 infection in UK</td>\n",
       "    </tr>\n",
       "    <tr>\n",
       "      <th>4</th>\n",
       "      <td>6 December 1996</td>\n",
       "      <td>1996 - Ebola haemorrhagic fever in Gabon (new ...</td>\n",
       "    </tr>\n",
       "  </tbody>\n",
       "</table>\n",
       "</div>"
      ],
      "text/plain": [
       "               Date                                       Disease Name\n",
       "0  24 December 1996  1996 - Ebola haemorrhagic fever in Gabon (new ...\n",
       "1  20 December 1996  1996 - Ebola haemorrhagic fever in Gabon (new ...\n",
       "2  13 December 1996                 1996 - Cholera in Rwanda and Zaire\n",
       "3  13 December 1996                 1996 - E.coli O157 infection in UK\n",
       "4   6 December 1996  1996 - Ebola haemorrhagic fever in Gabon (new ..."
      ]
     },
     "execution_count": 11,
     "metadata": {},
     "output_type": "execute_result"
    }
   ],
   "source": [
    "# Saving into a dataframe\n",
    "import pandas as pd\n",
    "dis1996 = pd.DataFrame({\n",
    "        \"Date\": disease_date1, \n",
    "        \"Disease Name\": disease_name1})\n",
    "dis1996.head()"
   ]
  },
  {
   "cell_type": "code",
   "execution_count": 12,
   "metadata": {},
   "outputs": [],
   "source": [
    "dis1996.to_csv(\"1996 Diseases\", index= False)"
   ]
  },
  {
   "cell_type": "markdown",
   "metadata": {},
   "source": [
    "### 1997"
   ]
  },
  {
   "cell_type": "code",
   "execution_count": 13,
   "metadata": {},
   "outputs": [
    {
     "data": {
      "text/plain": [
       "<Response [200]>"
      ]
     },
     "execution_count": 13,
     "metadata": {},
     "output_type": "execute_result"
    }
   ],
   "source": [
    "#download the webpage, this returns a request as 200 meaning dowloaded\n",
    "page1997 = requests.get(\"http://www.who.int/csr/don/archive/year/1997/en/\")\n",
    "page1997"
   ]
  },
  {
   "cell_type": "code",
   "execution_count": 17,
   "metadata": {},
   "outputs": [],
   "source": [
    "soup2 = BeautifulSoup(page1997.content, 'html.parser')"
   ]
  },
  {
   "cell_type": "code",
   "execution_count": 20,
   "metadata": {},
   "outputs": [],
   "source": [
    "auto2 = soup2.find(\"ul\", \"auto_archive\")"
   ]
  },
  {
   "cell_type": "code",
   "execution_count": 22,
   "metadata": {},
   "outputs": [
    {
     "data": {
      "text/plain": [
       "['26 November 1997',\n",
       " '26 November 1997',\n",
       " '21 November 1997',\n",
       " '21 November 1997',\n",
       " '19 November 1997',\n",
       " '14 November 1997',\n",
       " '14 November 1997',\n",
       " '31 October 1997',\n",
       " '30 October 1997',\n",
       " '28 October 1997',\n",
       " '28 October 1997',\n",
       " '27 October 1997',\n",
       " '10 October 1997',\n",
       " '2 October 1997',\n",
       " '2 October 1997',\n",
       " '22 September 1997',\n",
       " '2 September 1997',\n",
       " '2 September 1997',\n",
       " '2 September 1997',\n",
       " '11 August 1997',\n",
       " '8 August 1997',\n",
       " '31 July 1997',\n",
       " '31 July 1997',\n",
       " '30 July 1997',\n",
       " '7 July 1997',\n",
       " '3 July 1997',\n",
       " '26 June 1997',\n",
       " '19 June 1997',\n",
       " '19 June 1997',\n",
       " '18 June 1997',\n",
       " '10 June 1997',\n",
       " '6 June 1997',\n",
       " '5 June 1997',\n",
       " '4 June 1997',\n",
       " '22 May 1997',\n",
       " '20 May 1997',\n",
       " '9 May 1997',\n",
       " '6 May 1997',\n",
       " '6 May 1997',\n",
       " '6 May 1997',\n",
       " '1 May 1997',\n",
       " '24 April 1997',\n",
       " '24 April 1997',\n",
       " '15 April 1997',\n",
       " '15 April 1997',\n",
       " '14 April 1997',\n",
       " '11 April 1997',\n",
       " '28 March 1997',\n",
       " '27 March 1997',\n",
       " '21 March 1997',\n",
       " '21 March 1997',\n",
       " '21 March 1997',\n",
       " '12 March 1997',\n",
       " '11 March 1997',\n",
       " '6 March 1997',\n",
       " '2 March 1997',\n",
       " '28 February 1997',\n",
       " '28 February 1997',\n",
       " '28 February 1997',\n",
       " '20 February 1997',\n",
       " '7 February 1997',\n",
       " '7 February 1997',\n",
       " '7 February 1997',\n",
       " '31 January 1997',\n",
       " '31 January 1997',\n",
       " '27 January 1997',\n",
       " '24 January 1997',\n",
       " '22 January 1997',\n",
       " '21 January 1997',\n",
       " '20 January 1997',\n",
       " '17 January 1997',\n",
       " '17 January 1997',\n",
       " '16 January 1997',\n",
       " '9 January 1997',\n",
       " '8 January 1997',\n",
       " '8 January 1997',\n",
       " '2 January 1997']"
      ]
     },
     "execution_count": 22,
     "metadata": {},
     "output_type": "execute_result"
    }
   ],
   "source": [
    "date_tags2 = auto2.find_all(\"a\")\n",
    "disease_date2= [pt.get_text() for pt in date_tags2]\n",
    "disease_date2"
   ]
  },
  {
   "cell_type": "code",
   "execution_count": 23,
   "metadata": {},
   "outputs": [
    {
     "data": {
      "text/plain": [
       "['1997 - Cholera in Mozambique - Update 4',\n",
       " '1997 - Cholera in Djibouti - Update',\n",
       " '1997 - Plague in Mozambique - Update',\n",
       " '1997 - Cholera in Djibouti',\n",
       " '1997 - Cholera in Mozambique - Update 3',\n",
       " '1997 - Cholera in Mozambique - Update 2',\n",
       " '1997 - Monkeypox in the Democratic Republic of the Congo (former Zaire) - Update',\n",
       " '1997 - Absence of Lassa fever in Ghana',\n",
       " '1997 - Plague in Malawi',\n",
       " '1997 - Cholera in Mozambique - Update',\n",
       " '1997 - Cholera in Kenya',\n",
       " '1997 - Leptospirosis in India',\n",
       " '1997 - Encephalitis in Nepal - Update',\n",
       " '1997 - Transmissible spongiform encephalopathies (TSEs)',\n",
       " '1997 - Hantavirus Pulmonary Syndrome in the Americas',\n",
       " '1997 - Cholera in Kenya',\n",
       " '1997 - Meningitis in Zimbabwe',\n",
       " '1997 - Cholera in Mozambique',\n",
       " '1997 - Encephalitis in Nepal',\n",
       " '1997 - Yellow fever in Liberia',\n",
       " '1997 - Plague in Mozambique',\n",
       " '1997 - Dengue outbreak in Malaysia',\n",
       " '1997 - Monkeypox in the Democratic Republic of the Congo (former Zaire)',\n",
       " '1997 - Cholera in Central African Republic',\n",
       " '1997 - Viral meningitis in Gaza',\n",
       " '1997 - Fatal myocarditis in Malaysia - Update 4',\n",
       " '1997 - Fatal myocarditis in Malaysia - Update 3',\n",
       " '1997 - Fatal myocarditis in Malaysia - Update 2',\n",
       " '1997 - Vancomycin resistant Staphylococcus aureus',\n",
       " '1997 - Dengue in Cuba',\n",
       " '1997 - Fatal myocarditis in Malaysia - Update',\n",
       " '1997 - Fatal myocarditis in Malaysia',\n",
       " '1997 - Anthrax in Ghana',\n",
       " '1997 - Cholera in Somalia',\n",
       " '1997 - Lassa fever in Sierra Leone - Update 2',\n",
       " '1997 - International Travel and Health',\n",
       " '1997 - Cholera in Somalia - Update',\n",
       " '1997 - Rabies post-exposure treatment',\n",
       " '1997 - Cholera in Tanzania',\n",
       " '1997 - Louse-borne typhus in Burundi',\n",
       " '1997 - Lassa fever in Sierra Leone - Update',\n",
       " '1997 - Surveillance Standards',\n",
       " '1997 - Monkeypox',\n",
       " '1997 - Cholera in Somalia',\n",
       " '1997 - Cholera in Zaire',\n",
       " '1997 - Monkeypox changes its pattern of human infection',\n",
       " '1997 - Meningitis in West Africa',\n",
       " '1997 - Medical Impact of Use of Antimicrobial drugs in Food Animals',\n",
       " '1997 - Meningitis in West Africa',\n",
       " '1997 - Meningitis in Ghana - Update',\n",
       " '1997 - Lassa fever in Sierra Leone',\n",
       " '1997 - Monkeypox in the Democratic Republic of the Congo (former Zaire)',\n",
       " \"1997 - O'nyong-nyong (ONN) fever in Uganda\",\n",
       " '1997 - Yellow Fever in Bolivia',\n",
       " '1997 - Meningitis in Ghana',\n",
       " '1997 - Ebola haemorrhagic fever in Gabon (new outbreak) - Update 16',\n",
       " '1997 - Dengue fever in the Cook Islands',\n",
       " '1997 - Typhoid fever in Tadjikistan',\n",
       " '1997 - Meningococcal disease in Spain',\n",
       " '1997 - Influenza vaccine for 1997-1998 season',\n",
       " '1997 - Ebola haemorrhagic fever in Gabon (new outbreak) - Update 15',\n",
       " '1997 - Bubonic plague in Zambia',\n",
       " '1997 - Meningitis outbreak in Togo - Update 2',\n",
       " '1997 - Meningitis in West Africa',\n",
       " '1997 - Bubonic Plague in Zambia',\n",
       " '1997 - Meningitis outbreak in Togo - Update',\n",
       " '1997 - Meningitis outbreak in Togo',\n",
       " '1997 - Cholera in Bolivia',\n",
       " '1997 - Ebola haemorrhagic fever in Gabon (new outbreak) - Update 14',\n",
       " '1997 - Health situation in Rwandan refugee camp in Zaire',\n",
       " '1997 - Measles in Guadeloupe',\n",
       " '1997 - Cholera in Burundi - Update',\n",
       " '1997 - Ebola haemorrhagic fever in Gabon (new outbreak) - Update 13',\n",
       " '1997 - Cholera in Burundi',\n",
       " '1997 - Ebola haemorrhagic fever in Gabon (new outbreak) - Update 11',\n",
       " '1997 - Ebola haemorrhagic fever in Gabon (new outbreak) - Update 12',\n",
       " '1997 - Ebola haemorrhagic fever in Gabon (new outbreak) - Update 10']"
      ]
     },
     "execution_count": 23,
     "metadata": {},
     "output_type": "execute_result"
    }
   ],
   "source": [
    "disease_tag2 = auto2.find_all(\"span\", \"link_info\")\n",
    "disease_name2= [pt.get_text() for pt in disease_tag2]\n",
    "disease_name2"
   ]
  },
  {
   "cell_type": "code",
   "execution_count": 24,
   "metadata": {},
   "outputs": [
    {
     "data": {
      "text/html": [
       "<div>\n",
       "<style scoped>\n",
       "    .dataframe tbody tr th:only-of-type {\n",
       "        vertical-align: middle;\n",
       "    }\n",
       "\n",
       "    .dataframe tbody tr th {\n",
       "        vertical-align: top;\n",
       "    }\n",
       "\n",
       "    .dataframe thead th {\n",
       "        text-align: right;\n",
       "    }\n",
       "</style>\n",
       "<table border=\"1\" class=\"dataframe\">\n",
       "  <thead>\n",
       "    <tr style=\"text-align: right;\">\n",
       "      <th></th>\n",
       "      <th>Date</th>\n",
       "      <th>Disease Name</th>\n",
       "    </tr>\n",
       "  </thead>\n",
       "  <tbody>\n",
       "    <tr>\n",
       "      <th>0</th>\n",
       "      <td>26 November 1997</td>\n",
       "      <td>1997 - Cholera in Mozambique - Update 4</td>\n",
       "    </tr>\n",
       "    <tr>\n",
       "      <th>1</th>\n",
       "      <td>26 November 1997</td>\n",
       "      <td>1997 - Cholera in Djibouti - Update</td>\n",
       "    </tr>\n",
       "    <tr>\n",
       "      <th>2</th>\n",
       "      <td>21 November 1997</td>\n",
       "      <td>1997 - Plague in Mozambique - Update</td>\n",
       "    </tr>\n",
       "    <tr>\n",
       "      <th>3</th>\n",
       "      <td>21 November 1997</td>\n",
       "      <td>1997 - Cholera in Djibouti</td>\n",
       "    </tr>\n",
       "    <tr>\n",
       "      <th>4</th>\n",
       "      <td>19 November 1997</td>\n",
       "      <td>1997 - Cholera in Mozambique - Update 3</td>\n",
       "    </tr>\n",
       "  </tbody>\n",
       "</table>\n",
       "</div>"
      ],
      "text/plain": [
       "               Date                             Disease Name\n",
       "0  26 November 1997  1997 - Cholera in Mozambique - Update 4\n",
       "1  26 November 1997      1997 - Cholera in Djibouti - Update\n",
       "2  21 November 1997     1997 - Plague in Mozambique - Update\n",
       "3  21 November 1997               1997 - Cholera in Djibouti\n",
       "4  19 November 1997  1997 - Cholera in Mozambique - Update 3"
      ]
     },
     "execution_count": 24,
     "metadata": {},
     "output_type": "execute_result"
    }
   ],
   "source": [
    "# Saving into a dataframe\n",
    "import pandas as pd\n",
    "dis1997 = pd.DataFrame({\n",
    "        \"Date\": disease_date2, \n",
    "        \"Disease Name\": disease_name2})\n",
    "dis1997.head()"
   ]
  },
  {
   "cell_type": "code",
   "execution_count": 25,
   "metadata": {},
   "outputs": [],
   "source": [
    "dis1997.to_csv(\"1997 Diseases\", index= False)"
   ]
  },
  {
   "cell_type": "markdown",
   "metadata": {},
   "source": [
    "### 1998"
   ]
  },
  {
   "cell_type": "code",
   "execution_count": 26,
   "metadata": {},
   "outputs": [
    {
     "data": {
      "text/plain": [
       "<Response [200]>"
      ]
     },
     "execution_count": 26,
     "metadata": {},
     "output_type": "execute_result"
    }
   ],
   "source": [
    "#download the webpage, this returns a request as 200 meaning dowloaded\n",
    "page1998 = requests.get(\"http://www.who.int/csr/don/archive/year/1998/en/\")\n",
    "page1998"
   ]
  },
  {
   "cell_type": "code",
   "execution_count": 27,
   "metadata": {},
   "outputs": [],
   "source": [
    "soup3 = BeautifulSoup(page1998.content, 'html.parser')"
   ]
  },
  {
   "cell_type": "code",
   "execution_count": 28,
   "metadata": {},
   "outputs": [],
   "source": [
    "auto3 = soup3.find(\"ul\", \"auto_archive\")"
   ]
  },
  {
   "cell_type": "code",
   "execution_count": 31,
   "metadata": {},
   "outputs": [
    {
     "data": {
      "text/plain": [
       "['23 December 1998', '22 December 1998', '22 December 1998']"
      ]
     },
     "execution_count": 31,
     "metadata": {},
     "output_type": "execute_result"
    }
   ],
   "source": [
    "date_tags3 = auto3.find_all(\"a\")\n",
    "disease_date3= [pt.get_text() for pt in date_tags3]\n",
    "disease_date3[0:3]"
   ]
  },
  {
   "cell_type": "code",
   "execution_count": 34,
   "metadata": {},
   "outputs": [
    {
     "data": {
      "text/plain": [
       "'1998 - Influenza in China'"
      ]
     },
     "execution_count": 34,
     "metadata": {},
     "output_type": "execute_result"
    }
   ],
   "source": [
    "disease_tag3 = auto3.find_all(\"span\", \"link_info\")\n",
    "disease_name3= [pt.get_text() for pt in disease_tag3]\n",
    "disease_name3[0]"
   ]
  },
  {
   "cell_type": "code",
   "execution_count": 35,
   "metadata": {},
   "outputs": [
    {
     "data": {
      "text/html": [
       "<div>\n",
       "<style scoped>\n",
       "    .dataframe tbody tr th:only-of-type {\n",
       "        vertical-align: middle;\n",
       "    }\n",
       "\n",
       "    .dataframe tbody tr th {\n",
       "        vertical-align: top;\n",
       "    }\n",
       "\n",
       "    .dataframe thead th {\n",
       "        text-align: right;\n",
       "    }\n",
       "</style>\n",
       "<table border=\"1\" class=\"dataframe\">\n",
       "  <thead>\n",
       "    <tr style=\"text-align: right;\">\n",
       "      <th></th>\n",
       "      <th>Date</th>\n",
       "      <th>Disease Name</th>\n",
       "    </tr>\n",
       "  </thead>\n",
       "  <tbody>\n",
       "    <tr>\n",
       "      <th>0</th>\n",
       "      <td>23 December 1998</td>\n",
       "      <td>1998 - Influenza in China</td>\n",
       "    </tr>\n",
       "    <tr>\n",
       "      <th>1</th>\n",
       "      <td>22 December 1998</td>\n",
       "      <td>1998 - Yellow fever in Burkina Faso</td>\n",
       "    </tr>\n",
       "    <tr>\n",
       "      <th>2</th>\n",
       "      <td>22 December 1998</td>\n",
       "      <td>1998 - Meningitis in Democratic Republic of Congo</td>\n",
       "    </tr>\n",
       "    <tr>\n",
       "      <th>3</th>\n",
       "      <td>18 December 1998</td>\n",
       "      <td>1998 - Cholera/acute diarrhoea in Somalia</td>\n",
       "    </tr>\n",
       "    <tr>\n",
       "      <th>4</th>\n",
       "      <td>4 December 1998</td>\n",
       "      <td>1998 - food poisoning in northern Mozambique</td>\n",
       "    </tr>\n",
       "  </tbody>\n",
       "</table>\n",
       "</div>"
      ],
      "text/plain": [
       "               Date                                       Disease Name\n",
       "0  23 December 1998                          1998 - Influenza in China\n",
       "1  22 December 1998                1998 - Yellow fever in Burkina Faso\n",
       "2  22 December 1998  1998 - Meningitis in Democratic Republic of Congo\n",
       "3  18 December 1998          1998 - Cholera/acute diarrhoea in Somalia\n",
       "4   4 December 1998       1998 - food poisoning in northern Mozambique"
      ]
     },
     "execution_count": 35,
     "metadata": {},
     "output_type": "execute_result"
    }
   ],
   "source": [
    "# Saving into a dataframe\n",
    "import pandas as pd\n",
    "dis1998 = pd.DataFrame({\n",
    "        \"Date\": disease_date3, \n",
    "        \"Disease Name\": disease_name3})\n",
    "dis1998.head()"
   ]
  },
  {
   "cell_type": "code",
   "execution_count": 36,
   "metadata": {},
   "outputs": [],
   "source": [
    "dis1998.to_csv(\"1998 Diseases\", index= False)"
   ]
  },
  {
   "cell_type": "markdown",
   "metadata": {},
   "source": [
    "### 1999"
   ]
  },
  {
   "cell_type": "code",
   "execution_count": 38,
   "metadata": {},
   "outputs": [
    {
     "data": {
      "text/plain": [
       "<Response [200]>"
      ]
     },
     "execution_count": 38,
     "metadata": {},
     "output_type": "execute_result"
    }
   ],
   "source": [
    "#download the webpage, this returns a request as 200 meaning dowloaded\n",
    "page1999 = requests.get(\"http://www.who.int/csr/don/archive/year/1999/en/\")\n",
    "page1999"
   ]
  },
  {
   "cell_type": "code",
   "execution_count": 39,
   "metadata": {},
   "outputs": [],
   "source": [
    "soup4 = BeautifulSoup(page1999.content, 'html.parser')"
   ]
  },
  {
   "cell_type": "code",
   "execution_count": 40,
   "metadata": {},
   "outputs": [],
   "source": [
    "auto4 = soup4.find(\"ul\", \"auto_archive\")"
   ]
  },
  {
   "cell_type": "code",
   "execution_count": 41,
   "metadata": {},
   "outputs": [
    {
     "data": {
      "text/plain": [
       "['22 December 1999', '17 December 1999', '10 December 1999']"
      ]
     },
     "execution_count": 41,
     "metadata": {},
     "output_type": "execute_result"
    }
   ],
   "source": [
    "date_tags4 = auto4.find_all(\"a\")\n",
    "disease_date4= [pt.get_text() for pt in date_tags4]\n",
    "disease_date4[0:3]"
   ]
  },
  {
   "cell_type": "code",
   "execution_count": 42,
   "metadata": {},
   "outputs": [
    {
     "data": {
      "text/plain": [
       "'1999 - Cholera, Comoros'"
      ]
     },
     "execution_count": 42,
     "metadata": {},
     "output_type": "execute_result"
    }
   ],
   "source": [
    "disease_tag4 = auto4.find_all(\"span\", \"link_info\")\n",
    "disease_name4= [pt.get_text() for pt in disease_tag4]\n",
    "disease_name4[0]"
   ]
  },
  {
   "cell_type": "code",
   "execution_count": 43,
   "metadata": {},
   "outputs": [
    {
     "data": {
      "text/html": [
       "<div>\n",
       "<style scoped>\n",
       "    .dataframe tbody tr th:only-of-type {\n",
       "        vertical-align: middle;\n",
       "    }\n",
       "\n",
       "    .dataframe tbody tr th {\n",
       "        vertical-align: top;\n",
       "    }\n",
       "\n",
       "    .dataframe thead th {\n",
       "        text-align: right;\n",
       "    }\n",
       "</style>\n",
       "<table border=\"1\" class=\"dataframe\">\n",
       "  <thead>\n",
       "    <tr style=\"text-align: right;\">\n",
       "      <th></th>\n",
       "      <th>Date</th>\n",
       "      <th>Disease Name</th>\n",
       "    </tr>\n",
       "  </thead>\n",
       "  <tbody>\n",
       "    <tr>\n",
       "      <th>0</th>\n",
       "      <td>22 December 1999</td>\n",
       "      <td>1999 - Cholera, Comoros</td>\n",
       "    </tr>\n",
       "    <tr>\n",
       "      <th>1</th>\n",
       "      <td>17 December 1999</td>\n",
       "      <td>1999 - New variant Creuzfeldt-Jakob disease, F...</td>\n",
       "    </tr>\n",
       "    <tr>\n",
       "      <th>2</th>\n",
       "      <td>10 December 1999</td>\n",
       "      <td>1999 - Cholera, Democratic Republic of the Congo</td>\n",
       "    </tr>\n",
       "    <tr>\n",
       "      <th>3</th>\n",
       "      <td>9 December 1999</td>\n",
       "      <td>1999 - Cholera, Democratic Republic of the Congo</td>\n",
       "    </tr>\n",
       "    <tr>\n",
       "      <th>4</th>\n",
       "      <td>23 November 1999</td>\n",
       "      <td>1999 - Yellow fever, United States of America</td>\n",
       "    </tr>\n",
       "  </tbody>\n",
       "</table>\n",
       "</div>"
      ],
      "text/plain": [
       "               Date                                       Disease Name\n",
       "0  22 December 1999                            1999 - Cholera, Comoros\n",
       "1  17 December 1999  1999 - New variant Creuzfeldt-Jakob disease, F...\n",
       "2  10 December 1999   1999 - Cholera, Democratic Republic of the Congo\n",
       "3   9 December 1999   1999 - Cholera, Democratic Republic of the Congo\n",
       "4  23 November 1999      1999 - Yellow fever, United States of America"
      ]
     },
     "execution_count": 43,
     "metadata": {},
     "output_type": "execute_result"
    }
   ],
   "source": [
    "# Saving into a dataframe\n",
    "import pandas as pd\n",
    "dis1999 = pd.DataFrame({\n",
    "        \"Date\": disease_date4, \n",
    "        \"Disease Name\": disease_name4})\n",
    "dis1999.head()"
   ]
  },
  {
   "cell_type": "code",
   "execution_count": 44,
   "metadata": {},
   "outputs": [],
   "source": [
    "dis1999.to_csv(\"1999 Diseases\", index= False)"
   ]
  },
  {
   "cell_type": "markdown",
   "metadata": {},
   "source": [
    "### 2000 - 2005"
   ]
  },
  {
   "cell_type": "code",
   "execution_count": 46,
   "metadata": {},
   "outputs": [
    {
     "name": "stdout",
     "output_type": "stream",
     "text": [
      "2000: <Response [200]> 2001: <Response [200]> 2002: <Response [200]> 2003: <Response [200]> 2004: <Response [200]> 2005: <Response [200]>\n"
     ]
    }
   ],
   "source": [
    "#download the webpage, this returns a request as 200 meaning dowloaded\n",
    "page2000 = requests.get(\"http://www.who.int/csr/don/archive/year/2000/en/\")\n",
    "page2001 = requests.get(\"http://www.who.int/csr/don/archive/year/2001/en/\")\n",
    "page2002 = requests.get(\"http://www.who.int/csr/don/archive/year/2002/en/\")\n",
    "page2003 = requests.get(\"http://www.who.int/csr/don/archive/year/2003/en/\")\n",
    "page2004 = requests.get(\"http://www.who.int/csr/don/archive/year/2004/en/\")\n",
    "page2005 = requests.get(\"http://www.who.int/csr/don/archive/year/2005/en/\")\n",
    "print(\"2000:\", page2000, \"2001:\", page2001, \"2002:\", page2002, \"2003:\", page2003,\"2004:\", page2004, \"2005:\", page2005)"
   ]
  },
  {
   "cell_type": "code",
   "execution_count": 47,
   "metadata": {},
   "outputs": [],
   "source": [
    "soup5 = BeautifulSoup(page2000.content, 'html.parser')\n",
    "soup6 = BeautifulSoup(page2001.content, 'html.parser')\n",
    "soup7 = BeautifulSoup(page2002.content, 'html.parser')\n",
    "soup8 = BeautifulSoup(page2003.content, 'html.parser')\n",
    "soup9 = BeautifulSoup(page2004.content, 'html.parser')\n",
    "soup10 = BeautifulSoup(page2005.content, 'html.parser')"
   ]
  },
  {
   "cell_type": "code",
   "execution_count": 48,
   "metadata": {},
   "outputs": [],
   "source": [
    "auto5 = soup5.find(\"ul\", \"auto_archive\")\n",
    "auto6 = soup6.find(\"ul\", \"auto_archive\")\n",
    "auto7 = soup7.find(\"ul\", \"auto_archive\")\n",
    "auto8 = soup8.find(\"ul\", \"auto_archive\")\n",
    "auto9 = soup9.find(\"ul\", \"auto_archive\")\n",
    "auto10 = soup10.find(\"ul\", \"auto_archive\")"
   ]
  },
  {
   "cell_type": "code",
   "execution_count": 60,
   "metadata": {},
   "outputs": [
    {
     "name": "stdout",
     "output_type": "stream",
     "text": [
      "['29 December 2000', '29 December 2000', '29 December 2000']\n",
      "['31 December 2002', '28 December 2001', '24 December 2001']\n",
      "['20 December 2002', '12 December 2002', '29 November 2002']\n",
      "['30 December 2003', '28 December 2003', '23 December 2003']\n",
      "['30 December 2004', '15 December 2004', '3 December 2004']\n"
     ]
    }
   ],
   "source": [
    "date_tags5 = auto5.find_all(\"a\")\n",
    "disease_date5= [pt.get_text() for pt in date_tags5]\n",
    "print(disease_date5[0:3])\n",
    "\n",
    "date_tags6 = auto6.find_all(\"a\")\n",
    "disease_date6= [pt.get_text() for pt in date_tags6]\n",
    "print(disease_date6[0:3])\n",
    "\n",
    "date_tags7 = auto7.find_all(\"a\")\n",
    "disease_date7= [pt.get_text() for pt in date_tags7]\n",
    "print(disease_date7[0:3])\n",
    "\n",
    "date_tags8 = auto8.find_all(\"a\")\n",
    "disease_date8= [pt.get_text() for pt in date_tags8]\n",
    "print(disease_date8[0:3])\n",
    "\n",
    "date_tags9 = auto9.find_all(\"a\")\n",
    "disease_date9= [pt.get_text() for pt in date_tags9]\n",
    "print(disease_date9[0:3])\n"
   ]
  },
  {
   "cell_type": "code",
   "execution_count": 66,
   "metadata": {},
   "outputs": [
    {
     "name": "stdout",
     "output_type": "stream",
     "text": [
      "['30 December 2005', '23 December 2005', '19 December 2005']\n"
     ]
    }
   ],
   "source": [
    "date_tags10 = auto10.find_all(\"a\")\n",
    "disease_date10= [pt.get_text() for pt in date_tags10]\n",
    "print(disease_date10[0:3])"
   ]
  },
  {
   "cell_type": "code",
   "execution_count": 67,
   "metadata": {},
   "outputs": [
    {
     "data": {
      "text/plain": [
       "162"
      ]
     },
     "execution_count": 67,
     "metadata": {},
     "output_type": "execute_result"
    }
   ],
   "source": [
    "len(disease_date10)"
   ]
  },
  {
   "cell_type": "code",
   "execution_count": 63,
   "metadata": {},
   "outputs": [
    {
     "name": "stdout",
     "output_type": "stream",
     "text": [
      "2000 - Cholera in South Africa - Update 10\n",
      "2001 - Ebola haemorrhagic fever in Gabon/The Republic of the Congo - Update 10\n",
      "2002 - Acute respiratory syndrome in Democratic Republic of the Congo - Update 2\n",
      "Suspected Severe Acute Respiratory Syndrome (SARS) case in southern China - update \n",
      "Avian influenza – situation in Viet Nam\n"
     ]
    }
   ],
   "source": [
    "disease_tag5 = auto5.find_all(\"span\", \"link_info\")\n",
    "disease_name5= [pt.get_text() for pt in disease_tag5]\n",
    "print(disease_name5[0])\n",
    "\n",
    "disease_tag6 = auto6.find_all(\"span\", \"link_info\")\n",
    "disease_name6= [pt.get_text() for pt in disease_tag6]\n",
    "print(disease_name6[0])\n",
    "\n",
    "disease_tag7 = auto7.find_all(\"span\", \"link_info\")\n",
    "disease_name7= [pt.get_text() for pt in disease_tag7]\n",
    "print(disease_name7[0])\n",
    "\n",
    "disease_tag8 = auto8.find_all(\"span\", \"link_info\")\n",
    "disease_name8= [pt.get_text() for pt in disease_tag8]\n",
    "print(disease_name8[0])\n",
    "\n",
    "disease_tag9 = auto9.find_all(\"span\", \"link_info\")\n",
    "disease_name9= [pt.get_text() for pt in disease_tag9]\n",
    "print(disease_name9[0])\n"
   ]
  },
  {
   "cell_type": "code",
   "execution_count": 71,
   "metadata": {},
   "outputs": [
    {
     "name": "stdout",
     "output_type": "stream",
     "text": [
      "Situation assessment and implications for human health\n"
     ]
    }
   ],
   "source": [
    "disease_tag10 = auto10.find_all(\"span\", \"link_info\")\n",
    "disease_name10= [pt.get_text() for pt in disease_tag10]\n",
    "print(disease_name10[47])"
   ]
  },
  {
   "cell_type": "code",
   "execution_count": 73,
   "metadata": {},
   "outputs": [],
   "source": [
    "del disease_name10[47]"
   ]
  },
  {
   "cell_type": "code",
   "execution_count": 74,
   "metadata": {},
   "outputs": [
    {
     "data": {
      "text/plain": [
       "162"
      ]
     },
     "execution_count": 74,
     "metadata": {},
     "output_type": "execute_result"
    }
   ],
   "source": [
    "len(disease_name10)"
   ]
  },
  {
   "cell_type": "code",
   "execution_count": 53,
   "metadata": {},
   "outputs": [],
   "source": [
    "dis2000 = pd.DataFrame({\n",
    "        \"Date\": disease_date5, \n",
    "        \"Disease Name\": disease_name5})\n"
   ]
  },
  {
   "cell_type": "code",
   "execution_count": 54,
   "metadata": {},
   "outputs": [],
   "source": [
    "\n",
    "dis2001 = pd.DataFrame({\n",
    "        \"Date\": disease_date6, \n",
    "        \"Disease Name\": disease_name6})"
   ]
  },
  {
   "cell_type": "code",
   "execution_count": 55,
   "metadata": {},
   "outputs": [],
   "source": [
    "dis2002 = pd.DataFrame({\n",
    "        \"Date\": disease_date7, \n",
    "        \"Disease Name\": disease_name7})"
   ]
  },
  {
   "cell_type": "code",
   "execution_count": 56,
   "metadata": {},
   "outputs": [],
   "source": [
    "dis2003 = pd.DataFrame({\n",
    "        \"Date\": disease_date8, \n",
    "        \"Disease Name\": disease_name8})"
   ]
  },
  {
   "cell_type": "code",
   "execution_count": 57,
   "metadata": {},
   "outputs": [],
   "source": [
    "dis2004 = pd.DataFrame({\n",
    "        \"Date\": disease_date9, \n",
    "        \"Disease Name\": disease_name9})"
   ]
  },
  {
   "cell_type": "code",
   "execution_count": 75,
   "metadata": {},
   "outputs": [],
   "source": [
    "dis2005 = pd.DataFrame({\"Date\": disease_date10, \"Disease Name\": disease_name10})"
   ]
  },
  {
   "cell_type": "code",
   "execution_count": 70,
   "metadata": {},
   "outputs": [],
   "source": [
    "dis2000.to_csv(\"2000 Diseases\", index= False)\n",
    "dis2001.to_csv(\"2001 Diseases\", index= False)\n",
    "dis2002.to_csv(\"2002 Diseases\", index= False)\n",
    "dis2003.to_csv(\"2003 Diseases\", index= False)\n",
    "dis2004.to_csv(\"2004 Diseases\", index= False)"
   ]
  },
  {
   "cell_type": "code",
   "execution_count": 76,
   "metadata": {},
   "outputs": [],
   "source": [
    "dis2005.to_csv(\"2005 Diseases\", index= False)"
   ]
  },
  {
   "cell_type": "markdown",
   "metadata": {},
   "source": [
    "#### 2006 -2018"
   ]
  },
  {
   "cell_type": "code",
   "execution_count": 78,
   "metadata": {},
   "outputs": [
    {
     "name": "stdout",
     "output_type": "stream",
     "text": [
      "2012: <Response [200]> 2013: <Response [200]> 2014: <Response [200]> 2015: <Response [200]> 2016: <Response [200]> 2017: <Response [200]> 2018: <Response [200]> 2007: <Response [200]> 2008: <Response [200]> 2009: <Response [200]> 2010: <Response [200]> 2011: <Response [200]> 2011: <Response [200]>\n"
     ]
    }
   ],
   "source": [
    "#download the webpage, this returns a request as 200 meaning dowloaded\n",
    "page2006 = requests.get(\"http://www.who.int/csr/don/archive/year/2006/en/\")\n",
    "page2007 = requests.get(\"http://www.who.int/csr/don/archive/year/2007/en/\")\n",
    "page2008 = requests.get(\"http://www.who.int/csr/don/archive/year/2008/en/\")\n",
    "page2009 = requests.get(\"http://www.who.int/csr/don/archive/year/2009/en/\")\n",
    "page2010 = requests.get(\"http://www.who.int/csr/don/archive/year/2010/en/\")\n",
    "page2011 = requests.get(\"http://www.who.int/csr/don/archive/year/2011/en/\")\n",
    "\n",
    "page2012 = requests.get(\"http://www.who.int/csr/don/archive/year/2012/en/\")\n",
    "page2013 = requests.get(\"http://www.who.int/csr/don/archive/year/2013/en/\")\n",
    "page2014 = requests.get(\"http://www.who.int/csr/don/archive/year/2014/en/\")\n",
    "page2015 = requests.get(\"http://www.who.int/csr/don/archive/year/2015/en/\")\n",
    "page2016 = requests.get(\"http://www.who.int/csr/don/archive/year/2016/en/\")\n",
    "page2017 = requests.get(\"http://www.who.int/csr/don/archive/year/2017/en/\")\n",
    "page2018 = requests.get(\"http://www.who.int/csr/don/archive/year/2018/en/\")\n",
    "print(\"2012:\", page2012, \"2013:\", page2013, \"2014:\", page2014, \"2015:\", page2015,\"2016:\", page2016, \"2017:\", page2017,\n",
    "     \"2018:\", page2018, \"2007:\", page2007, \"2008:\", page2008, \"2009:\", page2009,\"2010:\", page2010, \"2011:\", page2011,\n",
    "     \"2011:\", page2011)"
   ]
  },
  {
   "cell_type": "code",
   "execution_count": 79,
   "metadata": {},
   "outputs": [],
   "source": [
    "soup11 = BeautifulSoup(page2006.content, 'html.parser')\n",
    "soup12 = BeautifulSoup(page2007.content, 'html.parser')\n",
    "soup13= BeautifulSoup(page2008.content, 'html.parser')\n",
    "soup14 = BeautifulSoup(page2009.content, 'html.parser')\n",
    "soup15 = BeautifulSoup(page2010.content, 'html.parser')\n",
    "soup16 = BeautifulSoup(page2011.content, 'html.parser')\n",
    "\n",
    "soup17 = BeautifulSoup(page2012.content, 'html.parser')\n",
    "soup18 = BeautifulSoup(page2013.content, 'html.parser')\n",
    "soup19= BeautifulSoup(page2014.content, 'html.parser')\n",
    "soup20 = BeautifulSoup(page2015.content, 'html.parser')\n",
    "soup21 = BeautifulSoup(page2016.content, 'html.parser')\n",
    "soup22 = BeautifulSoup(page2017.content, 'html.parser')\n",
    "soup23 = BeautifulSoup(page2018.content, 'html.parser')"
   ]
  },
  {
   "cell_type": "code",
   "execution_count": 80,
   "metadata": {},
   "outputs": [],
   "source": [
    "auto11 = soup11.find(\"ul\", \"auto_archive\")\n",
    "auto12 = soup12.find(\"ul\", \"auto_archive\")\n",
    "auto13 = soup13.find(\"ul\", \"auto_archive\")\n",
    "auto14 = soup14.find(\"ul\", \"auto_archive\")\n",
    "auto15 = soup15.find(\"ul\", \"auto_archive\")\n",
    "auto16 = soup16.find(\"ul\", \"auto_archive\")\n",
    "\n",
    "auto17 = soup17.find(\"ul\", \"auto_archive\")\n",
    "auto18 = soup18.find(\"ul\", \"auto_archive\")\n",
    "auto19 = soup19.find(\"ul\", \"auto_archive\")\n",
    "auto20 = soup20.find(\"ul\", \"auto_archive\")\n",
    "auto21 = soup21.find(\"ul\", \"auto_archive\")\n",
    "auto22 = soup22.find(\"ul\", \"auto_archive\")\n",
    "auto23 = soup23.find(\"ul\", \"auto_archive\")"
   ]
  },
  {
   "cell_type": "code",
   "execution_count": 81,
   "metadata": {},
   "outputs": [
    {
     "name": "stdout",
     "output_type": "stream",
     "text": [
      "['27 December 2006', '27 December 2006', '26 December 2006']\n",
      "['28 December 2007', '28 December 2007', '27 December 2007']\n",
      "['26 December 2008', '26 December 2008', '16 December 2008']\n",
      "['30 December 2009', '23 December 2009', '21 December 2009']\n",
      "['29 December 2010', '9 December 2010', '8 December 2010']\n",
      "['21 December 2011', '15 December 2011', '1 December 2011']\n",
      "['12 December 2012', '6 December 2012', '30 November 2012']\n",
      "['31 December 2013', '27 December 2013', '22 December 2013']\n",
      "['30 December 2014', '30 December 2014', '28 December 2014']\n",
      "['22 December 2015', '21 December 2015', '21 December 2015']\n",
      "['27 December 2016', '23 December 2016', '19 December 2016']\n",
      "['22 December 2017', '22 December 2017', '22 December 2017']\n",
      "['25 October 2018', '18 October 2018', '15 October 2018']\n"
     ]
    }
   ],
   "source": [
    "date_tags11 = auto11.find_all(\"a\")\n",
    "disease_date11= [pt.get_text() for pt in date_tags11]\n",
    "print(disease_date11[0:3])\n",
    "\n",
    "date_tags12 = auto12.find_all(\"a\")\n",
    "disease_date12= [pt.get_text() for pt in date_tags12]\n",
    "print(disease_date12[0:3])\n",
    "\n",
    "date_tags13 = auto13.find_all(\"a\")\n",
    "disease_date13= [pt.get_text() for pt in date_tags13]\n",
    "print(disease_date13[0:3])\n",
    "\n",
    "date_tags14 = auto14.find_all(\"a\")\n",
    "disease_date14= [pt.get_text() for pt in date_tags14]\n",
    "print(disease_date14[0:3])\n",
    "\n",
    "date_tags15 = auto15.find_all(\"a\")\n",
    "disease_date15= [pt.get_text() for pt in date_tags15]\n",
    "print(disease_date15[0:3])\n",
    "\n",
    "date_tags16 = auto16.find_all(\"a\")\n",
    "disease_date16= [pt.get_text() for pt in date_tags16]\n",
    "print(disease_date16[0:3])\n",
    "\n",
    "date_tags17 = auto17.find_all(\"a\")\n",
    "disease_date17= [pt.get_text() for pt in date_tags17]\n",
    "print(disease_date17[0:3])\n",
    "\n",
    "date_tags18 = auto18.find_all(\"a\")\n",
    "disease_date18= [pt.get_text() for pt in date_tags18]\n",
    "print(disease_date18[0:3])\n",
    "\n",
    "date_tags19 = auto19.find_all(\"a\")\n",
    "disease_date19= [pt.get_text() for pt in date_tags19]\n",
    "print(disease_date19[0:3])\n",
    "\n",
    "date_tags20 = auto20.find_all(\"a\")\n",
    "disease_date20= [pt.get_text() for pt in date_tags20]\n",
    "print(disease_date20[0:3])\n",
    "\n",
    "date_tags21 = auto21.find_all(\"a\")\n",
    "disease_date21= [pt.get_text() for pt in date_tags21]\n",
    "print(disease_date21[0:3])\n",
    "\n",
    "date_tags22 = auto22.find_all(\"a\")\n",
    "disease_date22= [pt.get_text() for pt in date_tags22]\n",
    "print(disease_date22[0:3])\n",
    "\n",
    "date_tags23 = auto23.find_all(\"a\")\n",
    "disease_date23= [pt.get_text() for pt in date_tags23]\n",
    "print(disease_date23[0:3])\n"
   ]
  },
  {
   "cell_type": "code",
   "execution_count": 83,
   "metadata": {},
   "outputs": [],
   "source": [
    "#for i in range(11, 24):\n",
    "#    disease_tag[i] = auto[i].find_all(\"span\", \"link_info\")\n",
    "#    disease_name[i]= [pt.get_text() for pt in disease_tag[i]]\n",
    "#   print(disease_name[i][0])"
   ]
  },
  {
   "cell_type": "code",
   "execution_count": 84,
   "metadata": {},
   "outputs": [
    {
     "name": "stdout",
     "output_type": "stream",
     "text": [
      "Avian influenza - situation in Egypt \n",
      "Avian influenza - situation in Egypt - update\n",
      "Cholera in Zimbabwe - update\n",
      "Pandemic (H1N1) 2009 - update 81\n",
      "Avian influenza - situation in Egypt - update 39\n",
      "Avian influenza - situation in Egypt - update 59\n",
      "Yellow fever in the Republic of Congo\n",
      "Middle East respiratory syndrome coronavirus (MERS-CoV) - update\n",
      "Ebola virus disease – United Kingdom\n",
      "Zika virus infection – Panama\n",
      "Summary of poliovirus circulation in 2016 – Pakistan\n",
      "Middle East respiratory syndrome coronavirus (MERS-CoV) – United Arab Emirates\n",
      "Ebola virus disease – Democratic Republic of the Congo \n"
     ]
    }
   ],
   "source": [
    "disease_tag11 = auto11.find_all(\"span\", \"link_info\")\n",
    "disease_name11= [pt.get_text() for pt in disease_tag11]\n",
    "print(disease_name11[0])\n",
    "\n",
    "disease_tag12 = auto12.find_all(\"span\", \"link_info\")\n",
    "disease_name12= [pt.get_text() for pt in disease_tag12]\n",
    "print(disease_name12[0])\n",
    "\n",
    "disease_tag13 = auto13.find_all(\"span\", \"link_info\")\n",
    "disease_name13= [pt.get_text() for pt in disease_tag13]\n",
    "print(disease_name13[0])\n",
    "\n",
    "disease_tag14 = auto14.find_all(\"span\", \"link_info\")\n",
    "disease_name14= [pt.get_text() for pt in disease_tag14]\n",
    "print(disease_name14[0])\n",
    "\n",
    "disease_tag15 = auto15.find_all(\"span\", \"link_info\")\n",
    "disease_name15= [pt.get_text() for pt in disease_tag15]\n",
    "print(disease_name15[0])\n",
    "\n",
    "disease_tag16 = auto16.find_all(\"span\", \"link_info\")\n",
    "disease_name16= [pt.get_text() for pt in disease_tag16]\n",
    "print(disease_name16[0])\n",
    "\n",
    "disease_tag17 = auto17.find_all(\"span\", \"link_info\")\n",
    "disease_name17= [pt.get_text() for pt in disease_tag17]\n",
    "print(disease_name17[0])\n",
    "\n",
    "disease_tag18 = auto18.find_all(\"span\", \"link_info\")\n",
    "disease_name18= [pt.get_text() for pt in disease_tag18]\n",
    "print(disease_name18[0])\n",
    "\n",
    "disease_tag19 = auto19.find_all(\"span\", \"link_info\")\n",
    "disease_name19= [pt.get_text() for pt in disease_tag19]\n",
    "print(disease_name19[0])\n",
    "\n",
    "disease_tag20 = auto20.find_all(\"span\", \"link_info\")\n",
    "disease_name20= [pt.get_text() for pt in disease_tag20]\n",
    "print(disease_name20[0])\n",
    "\n",
    "disease_tag21 = auto21.find_all(\"span\", \"link_info\")\n",
    "disease_name21= [pt.get_text() for pt in disease_tag21]\n",
    "print(disease_name21[0])\n",
    "\n",
    "disease_tag22 = auto22.find_all(\"span\", \"link_info\")\n",
    "disease_name22= [pt.get_text() for pt in disease_tag22]\n",
    "print(disease_name22[0])\n",
    "\n",
    "disease_tag23 = auto23.find_all(\"span\", \"link_info\")\n",
    "disease_name23= [pt.get_text() for pt in disease_tag23]\n",
    "print(disease_name23[0])\n"
   ]
  },
  {
   "cell_type": "code",
   "execution_count": 87,
   "metadata": {},
   "outputs": [],
   "source": [
    "dis2006 = pd.DataFrame({\n",
    "        \"Date\": disease_date11, \n",
    "        \"Disease Name\": disease_name11})\n",
    "dis2006.to_csv(\"2006 Diseases\", index= False)"
   ]
  },
  {
   "cell_type": "code",
   "execution_count": 88,
   "metadata": {},
   "outputs": [],
   "source": [
    "dis2007 = pd.DataFrame({\"Date\": disease_date12, \"Disease Name\": disease_name12})\n",
    "dis2007.to_csv(\"2007 Diseases\", index= False)"
   ]
  },
  {
   "cell_type": "code",
   "execution_count": 90,
   "metadata": {},
   "outputs": [],
   "source": [
    "dis2009 = pd.DataFrame({\"Date\": disease_date14, \"Disease Name\": disease_name14})\n",
    "dis2009.to_csv(\"2009 Diseases\", index= False)\n",
    "\n",
    "dis2010 = pd.DataFrame({\"Date\": disease_date15, \"Disease Name\": disease_name15})\n",
    "dis2010.to_csv(\"2010 Diseases\", index= False)\n",
    "\n",
    "dis2012 = pd.DataFrame({\"Date\": disease_date17, \"Disease Name\": disease_name17})\n",
    "dis2012.to_csv(\"2012 Diseases\", index= False)\n",
    "\n",
    "dis2013 = pd.DataFrame({\"Date\": disease_date18, \"Disease Name\": disease_name18})\n",
    "dis2013.to_csv(\"2013 Diseases\", index= False)\n",
    "\n",
    "dis2014 = pd.DataFrame({\"Date\": disease_date19, \"Disease Name\": disease_name19})\n",
    "dis2014.to_csv(\"2014 Diseases\", index= False)\n",
    "\n",
    "dis2015 = pd.DataFrame({\"Date\": disease_date20, \"Disease Name\": disease_name20})\n",
    "dis2015.to_csv(\"2015 Diseases\", index= False)\n",
    "\n",
    "dis2016 = pd.DataFrame({\"Date\": disease_date21, \"Disease Name\": disease_name21})\n",
    "dis2016.to_csv(\"2016 Diseases\", index= False)\n",
    "\n",
    "dis2017 = pd.DataFrame({\"Date\": disease_date22, \"Disease Name\": disease_name22})\n",
    "dis2017.to_csv(\"2017 Diseases\", index= False)\n",
    "\n",
    "dis2018 = pd.DataFrame({\"Date\": disease_date23, \"Disease Name\": disease_name23})\n",
    "dis2018.to_csv(\"2018 Diseases\", index= False)"
   ]
  },
  {
   "cell_type": "code",
   "execution_count": 91,
   "metadata": {},
   "outputs": [
    {
     "data": {
      "text/plain": [
       "72"
      ]
     },
     "execution_count": 91,
     "metadata": {},
     "output_type": "execute_result"
    }
   ],
   "source": [
    "len(disease_date13)"
   ]
  },
  {
   "cell_type": "code",
   "execution_count": 92,
   "metadata": {},
   "outputs": [
    {
     "data": {
      "text/plain": [
       "75"
      ]
     },
     "execution_count": 92,
     "metadata": {},
     "output_type": "execute_result"
    }
   ],
   "source": [
    "len(disease_name13)"
   ]
  },
  {
   "cell_type": "code",
   "execution_count": null,
   "metadata": {},
   "outputs": [],
   "source": []
  },
  {
   "cell_type": "code",
   "execution_count": 97,
   "metadata": {},
   "outputs": [
    {
     "name": "stdout",
     "output_type": "stream",
     "text": [
      "Yellow fever vaccination tops 1.27 million in Paraguay\n",
      "Mobilization against Yellow Fever in Paraguay Continues\n",
      "Epidemiological situation: low levels of meningitis activity so far in 2008\n"
     ]
    }
   ],
   "source": [
    "print(disease_name13[42])\n",
    "print(disease_name13[47])\n",
    "print(disease_name13[51])"
   ]
  },
  {
   "cell_type": "code",
   "execution_count": 98,
   "metadata": {},
   "outputs": [],
   "source": [
    "del disease_name13[42]\n",
    "del disease_name13[47]\n",
    "del disease_name13[51]"
   ]
  },
  {
   "cell_type": "code",
   "execution_count": 99,
   "metadata": {},
   "outputs": [],
   "source": [
    "dis2008 = pd.DataFrame({\"Date\": disease_date13, \"Disease Name\": disease_name13})\n",
    "dis2008.to_csv(\"2008 Diseases\", index= False)"
   ]
  },
  {
   "cell_type": "code",
   "execution_count": 102,
   "metadata": {},
   "outputs": [
    {
     "data": {
      "text/plain": [
       "Date                                             2 January 2008\n",
       "Disease Name    Avian influenza - situation in Egypt - update 2\n",
       "Name: 71, dtype: object"
      ]
     },
     "execution_count": 102,
     "metadata": {},
     "output_type": "execute_result"
    }
   ],
   "source": [
    "dis2008.iloc[71]"
   ]
  },
  {
   "cell_type": "code",
   "execution_count": 103,
   "metadata": {},
   "outputs": [
    {
     "data": {
      "text/plain": [
       "59"
      ]
     },
     "execution_count": 103,
     "metadata": {},
     "output_type": "execute_result"
    }
   ],
   "source": [
    "len(disease_date16)"
   ]
  },
  {
   "cell_type": "code",
   "execution_count": 104,
   "metadata": {},
   "outputs": [
    {
     "data": {
      "text/plain": [
       "60"
      ]
     },
     "execution_count": 104,
     "metadata": {},
     "output_type": "execute_result"
    }
   ],
   "source": [
    "len(disease_name16)"
   ]
  },
  {
   "cell_type": "code",
   "execution_count": 105,
   "metadata": {},
   "outputs": [
    {
     "data": {
      "text/plain": [
       "'Revised 7 December 2011'"
      ]
     },
     "execution_count": 105,
     "metadata": {},
     "output_type": "execute_result"
    }
   ],
   "source": [
    "disease_name16[5]"
   ]
  },
  {
   "cell_type": "code",
   "execution_count": 106,
   "metadata": {},
   "outputs": [],
   "source": [
    "del disease_name16[5]"
   ]
  },
  {
   "cell_type": "code",
   "execution_count": 107,
   "metadata": {},
   "outputs": [],
   "source": [
    "dis2011 = pd.DataFrame({\"Date\": disease_date16, \"Disease Name\": disease_name16})\n",
    "dis2011.to_csv(\"2011 Diseases\", index= False)"
   ]
  },
  {
   "cell_type": "code",
   "execution_count": null,
   "metadata": {},
   "outputs": [],
   "source": []
  }
 ],
 "metadata": {
  "kernelspec": {
   "display_name": "Python 3",
   "language": "python",
   "name": "python3"
  },
  "language_info": {
   "codemirror_mode": {
    "name": "ipython",
    "version": 3
   },
   "file_extension": ".py",
   "mimetype": "text/x-python",
   "name": "python",
   "nbconvert_exporter": "python",
   "pygments_lexer": "ipython3",
   "version": "3.7.0"
  }
 },
 "nbformat": 4,
 "nbformat_minor": 2
}
