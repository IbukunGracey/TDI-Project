{
 "cells": [
  {
   "cell_type": "markdown",
   "metadata": {},
   "source": [
    "### PROPOSED CAPSTONE PROJECT -THE DATA INCUBATOR\n",
    "#### NAME: Grace I. Ufeoshi\n",
    "#### PROJECT TITLE: ANALYSIS AND PREDICTION OF DISEASE OUTBREAK  ACROSS THE GLOBE\n",
    "\n",
    "### BACKGROUND\n",
    "*According to the  World Health Organisation,a disease outbreak is the occurrence of cases of disease in excess of what normally should be expected in a defined community, geographical area or season. Over the years concerns is been raised by the populace whenever there is an epidemic of disease in a community, country or continent. Mortality rate increases and it affects growth and development in such communities. This work aims to address the prevalence of disease around the globe using machine learning approach. This will provide a platform for health experts and enthusiasts to identify which disease would affect a particular country and what season of the year it will occur. If a disease breakout is known or identified before occurence, the society, governments and general populace will be well prepared for it and combact it at its early stage before a complete breakout*\n",
    "\n",
    "### MOTIVATION\n",
    "To build a community free from diseases and to help the populace prepare early in the advent of an epidemic, i propose to develop a system that helps to identify trends based on existing data and make predictions of an occurrence of future diseases and also identify how the possibility of the effect of a spread to neighboring countries. \n",
    "\n",
    "### ANALYSIS TO BE PERFORMED\n",
    "The following questions that will be addressed by this analysis are:\n",
    "1.\tWhat is driving multiple outbreak of diseases across the globe? Examples are Ebola, Lassa Fever, Cholera etc \n",
    "2.\tWhich location are they predominantly in.\n",
    "3.\tWhat time or season do they invade or are they likely to invade a particular territory?\n",
    "4.\tWhat can be done to prevent the spread of these diseases.\n",
    "\n",
    "### APPROACH AND RESULT\n",
    "I used a python library called beautiful soup to extract data of all diseases across all countries from 1996 - 2018. This data was obtained for the website of World Health Organisation. \n",
    "\n",
    "I carried out an exploratorty data analysis on these datasets by starting with data cleaning, to data visualization and data manipulation. I studied the features which are Name of disease, where it occurred and date of occurence. Also i had to manipulate the data to get desired resuts. In this work,, i used Ebola as a case study.\n",
    "\n",
    "Dusing the course of the analysis the following were identified:\n",
    "\n",
    "1. Comparing 49 diseases spread across 56 countries, the most prevelent out break is Middle East respiratory syndrome coronavirus (MERS-CoV), followed by Ebola and then Human infection with avian influenza A(H7N9) virus. \n",
    "\n",
    "2. The countries with the largest number of disease outbreak is Congo, China and Saudi Arabia. See Figure 1\n",
    "\n",
    "3. Picking Ebola as a case study, it was observed from Figure 2, Ebola's outbreak season spans from  May to October, also the breakout is higher in May and August.\n",
    "\n",
    "4. Similarly in Figure 3., Middle East respiratory syndrome coronavirus (MERS-CoV) occurs all year round with high breakout in April and June.\n",
    "\n",
    "\n",
    "### Further work\n",
    "1. Futher analysis will be carried out using classification algorithms to predict what disease will be prevalent at a particular time, in a specific country.\n",
    "2. Also the dataset will be increased to include other factors that could contribute to the spread of a particular disease.\n",
    "3. The system will be implemented as a web interface so that people can interact with it.\n",
    "\n",
    "###### Data Sources\n",
    "1. WHO: Emergency, Preparedness and Response http://www.who.int/csr/don/en/\n",
    "2. Disease Outbreak by year http://www.who.int/csr/don/archive/year/2018/en/\n",
    "3. Archive by Disease outbreak http://www.who.int/csr/don/archive/country/en/\n",
    "4. Scraped data: https://github.com/IbukunGracey/TDI-Project.git"
   ]
  },
  {
   "cell_type": "code",
   "execution_count": 18,
   "metadata": {},
   "outputs": [],
   "source": [
    "import pandas as pd\n",
    "import numpy as np\n",
    "import seaborn as sns\n",
    "import matplotlib.pyplot as plt\n",
    "%matplotlib inline"
   ]
  },
  {
   "cell_type": "code",
   "execution_count": 45,
   "metadata": {},
   "outputs": [],
   "source": [
    "sns.set()"
   ]
  },
  {
   "cell_type": "code",
   "execution_count": 2,
   "metadata": {},
   "outputs": [
    {
     "data": {
      "text/html": [
       "<div>\n",
       "<style scoped>\n",
       "    .dataframe tbody tr th:only-of-type {\n",
       "        vertical-align: middle;\n",
       "    }\n",
       "\n",
       "    .dataframe tbody tr th {\n",
       "        vertical-align: top;\n",
       "    }\n",
       "\n",
       "    .dataframe thead th {\n",
       "        text-align: right;\n",
       "    }\n",
       "</style>\n",
       "<table border=\"1\" class=\"dataframe\">\n",
       "  <thead>\n",
       "    <tr style=\"text-align: right;\">\n",
       "      <th></th>\n",
       "      <th>Date</th>\n",
       "      <th>Disease Name</th>\n",
       "      <th>Country</th>\n",
       "    </tr>\n",
       "  </thead>\n",
       "  <tbody>\n",
       "    <tr>\n",
       "      <th>0</th>\n",
       "      <td>2018-10-25</td>\n",
       "      <td>Ebola virus</td>\n",
       "      <td>Congo</td>\n",
       "    </tr>\n",
       "    <tr>\n",
       "      <th>1</th>\n",
       "      <td>2018-10-18</td>\n",
       "      <td>Ebola virus</td>\n",
       "      <td>Congo</td>\n",
       "    </tr>\n",
       "    <tr>\n",
       "      <th>2</th>\n",
       "      <td>2018-10-15</td>\n",
       "      <td>Chikungunya</td>\n",
       "      <td>Sudan</td>\n",
       "    </tr>\n",
       "    <tr>\n",
       "      <th>3</th>\n",
       "      <td>2018-10-11</td>\n",
       "      <td>Ebola virus</td>\n",
       "      <td>Congo</td>\n",
       "    </tr>\n",
       "    <tr>\n",
       "      <th>4</th>\n",
       "      <td>2018-10-05</td>\n",
       "      <td>Cholera</td>\n",
       "      <td>Zimbabwe</td>\n",
       "    </tr>\n",
       "  </tbody>\n",
       "</table>\n",
       "</div>"
      ],
      "text/plain": [
       "        Date Disease Name   Country\n",
       "0 2018-10-25  Ebola virus     Congo\n",
       "1 2018-10-18  Ebola virus     Congo\n",
       "2 2018-10-15  Chikungunya     Sudan\n",
       "3 2018-10-11  Ebola virus     Congo\n",
       "4 2018-10-05      Cholera  Zimbabwe"
      ]
     },
     "execution_count": 2,
     "metadata": {},
     "output_type": "execute_result"
    }
   ],
   "source": [
    "dis2018 = pd.read_excel(\"2018 diseases.xlsx\")\n",
    "dis2018.head()"
   ]
  },
  {
   "cell_type": "code",
   "execution_count": 7,
   "metadata": {},
   "outputs": [],
   "source": [
    "dis2018Copy = dis2018.copy()"
   ]
  },
  {
   "cell_type": "code",
   "execution_count": 4,
   "metadata": {},
   "outputs": [],
   "source": [
    "dis2017 = pd.read_excel(\"2010-2017 diseases.xlsx\", sheet_name= '2017')"
   ]
  },
  {
   "cell_type": "code",
   "execution_count": 5,
   "metadata": {},
   "outputs": [
    {
     "data": {
      "text/html": [
       "<div>\n",
       "<style scoped>\n",
       "    .dataframe tbody tr th:only-of-type {\n",
       "        vertical-align: middle;\n",
       "    }\n",
       "\n",
       "    .dataframe tbody tr th {\n",
       "        vertical-align: top;\n",
       "    }\n",
       "\n",
       "    .dataframe thead th {\n",
       "        text-align: right;\n",
       "    }\n",
       "</style>\n",
       "<table border=\"1\" class=\"dataframe\">\n",
       "  <thead>\n",
       "    <tr style=\"text-align: right;\">\n",
       "      <th></th>\n",
       "      <th>Date</th>\n",
       "      <th>Disease Name</th>\n",
       "      <th>Country</th>\n",
       "    </tr>\n",
       "  </thead>\n",
       "  <tbody>\n",
       "    <tr>\n",
       "      <th>0</th>\n",
       "      <td>2017-12-22</td>\n",
       "      <td>Middle East respiratory syndrome coronavirus (...</td>\n",
       "      <td>United Arab Emirate</td>\n",
       "    </tr>\n",
       "    <tr>\n",
       "      <th>1</th>\n",
       "      <td>2017-12-22</td>\n",
       "      <td>Outbreak of Salmonella Agona infections linked...</td>\n",
       "      <td>France</td>\n",
       "    </tr>\n",
       "    <tr>\n",
       "      <th>2</th>\n",
       "      <td>2017-12-22</td>\n",
       "      <td>Yellow fever</td>\n",
       "      <td>Nigeria</td>\n",
       "    </tr>\n",
       "    <tr>\n",
       "      <th>3</th>\n",
       "      <td>2017-12-22</td>\n",
       "      <td>Diphtheria</td>\n",
       "      <td>Yemen</td>\n",
       "    </tr>\n",
       "    <tr>\n",
       "      <th>4</th>\n",
       "      <td>2017-12-21</td>\n",
       "      <td>Monkeypox</td>\n",
       "      <td>Nigeria</td>\n",
       "    </tr>\n",
       "  </tbody>\n",
       "</table>\n",
       "</div>"
      ],
      "text/plain": [
       "        Date                                       Disease Name  \\\n",
       "0 2017-12-22  Middle East respiratory syndrome coronavirus (...   \n",
       "1 2017-12-22  Outbreak of Salmonella Agona infections linked...   \n",
       "2 2017-12-22                                       Yellow fever   \n",
       "3 2017-12-22                                         Diphtheria   \n",
       "4 2017-12-21                                         Monkeypox    \n",
       "\n",
       "               Country  \n",
       "0  United Arab Emirate  \n",
       "1               France  \n",
       "2              Nigeria  \n",
       "3                Yemen  \n",
       "4              Nigeria  "
      ]
     },
     "execution_count": 5,
     "metadata": {},
     "output_type": "execute_result"
    }
   ],
   "source": [
    "dis2017.head()"
   ]
  },
  {
   "cell_type": "code",
   "execution_count": 9,
   "metadata": {},
   "outputs": [],
   "source": [
    "dis2017Copy = dis2017.copy()"
   ]
  },
  {
   "cell_type": "code",
   "execution_count": 11,
   "metadata": {},
   "outputs": [
    {
     "data": {
      "text/html": [
       "<div>\n",
       "<style scoped>\n",
       "    .dataframe tbody tr th:only-of-type {\n",
       "        vertical-align: middle;\n",
       "    }\n",
       "\n",
       "    .dataframe tbody tr th {\n",
       "        vertical-align: top;\n",
       "    }\n",
       "\n",
       "    .dataframe thead th {\n",
       "        text-align: right;\n",
       "    }\n",
       "</style>\n",
       "<table border=\"1\" class=\"dataframe\">\n",
       "  <thead>\n",
       "    <tr style=\"text-align: right;\">\n",
       "      <th></th>\n",
       "      <th>Date</th>\n",
       "      <th>Disease Name</th>\n",
       "      <th>Country</th>\n",
       "    </tr>\n",
       "  </thead>\n",
       "  <tbody>\n",
       "    <tr>\n",
       "      <th>0</th>\n",
       "      <td>2018-10-25</td>\n",
       "      <td>Ebola virus</td>\n",
       "      <td>Congo</td>\n",
       "    </tr>\n",
       "    <tr>\n",
       "      <th>1</th>\n",
       "      <td>2018-10-18</td>\n",
       "      <td>Ebola virus</td>\n",
       "      <td>Congo</td>\n",
       "    </tr>\n",
       "    <tr>\n",
       "      <th>2</th>\n",
       "      <td>2018-10-15</td>\n",
       "      <td>Chikungunya</td>\n",
       "      <td>Sudan</td>\n",
       "    </tr>\n",
       "    <tr>\n",
       "      <th>3</th>\n",
       "      <td>2018-10-11</td>\n",
       "      <td>Ebola virus</td>\n",
       "      <td>Congo</td>\n",
       "    </tr>\n",
       "    <tr>\n",
       "      <th>4</th>\n",
       "      <td>2018-10-05</td>\n",
       "      <td>Cholera</td>\n",
       "      <td>Zimbabwe</td>\n",
       "    </tr>\n",
       "  </tbody>\n",
       "</table>\n",
       "</div>"
      ],
      "text/plain": [
       "        Date Disease Name   Country\n",
       "0 2018-10-25  Ebola virus     Congo\n",
       "1 2018-10-18  Ebola virus     Congo\n",
       "2 2018-10-15  Chikungunya     Sudan\n",
       "3 2018-10-11  Ebola virus     Congo\n",
       "4 2018-10-05      Cholera  Zimbabwe"
      ]
     },
     "execution_count": 11,
     "metadata": {},
     "output_type": "execute_result"
    }
   ],
   "source": [
    "diseaseAll = pd.concat([dis2018Copy, dis2017Copy], axis =0)\n",
    "diseaseAll.head()"
   ]
  },
  {
   "cell_type": "code",
   "execution_count": 83,
   "metadata": {},
   "outputs": [],
   "source": [
    "dismap = diseaseAll.groupby(\"Country\").count()"
   ]
  },
  {
   "cell_type": "code",
   "execution_count": 84,
   "metadata": {},
   "outputs": [
    {
     "data": {
      "text/html": [
       "<div>\n",
       "<style scoped>\n",
       "    .dataframe tbody tr th:only-of-type {\n",
       "        vertical-align: middle;\n",
       "    }\n",
       "\n",
       "    .dataframe tbody tr th {\n",
       "        vertical-align: top;\n",
       "    }\n",
       "\n",
       "    .dataframe thead th {\n",
       "        text-align: right;\n",
       "    }\n",
       "</style>\n",
       "<table border=\"1\" class=\"dataframe\">\n",
       "  <thead>\n",
       "    <tr style=\"text-align: right;\">\n",
       "      <th></th>\n",
       "      <th>Country</th>\n",
       "      <th>Date</th>\n",
       "      <th>Disease Name</th>\n",
       "    </tr>\n",
       "  </thead>\n",
       "  <tbody>\n",
       "    <tr>\n",
       "      <th>0</th>\n",
       "      <td>Africa</td>\n",
       "      <td>1</td>\n",
       "      <td>1</td>\n",
       "    </tr>\n",
       "    <tr>\n",
       "      <th>1</th>\n",
       "      <td>Algeria</td>\n",
       "      <td>1</td>\n",
       "      <td>1</td>\n",
       "    </tr>\n",
       "    <tr>\n",
       "      <th>2</th>\n",
       "      <td>Australia</td>\n",
       "      <td>1</td>\n",
       "      <td>1</td>\n",
       "    </tr>\n",
       "    <tr>\n",
       "      <th>3</th>\n",
       "      <td>Benin</td>\n",
       "      <td>1</td>\n",
       "      <td>1</td>\n",
       "    </tr>\n",
       "    <tr>\n",
       "      <th>4</th>\n",
       "      <td>Brazil</td>\n",
       "      <td>11</td>\n",
       "      <td>11</td>\n",
       "    </tr>\n",
       "  </tbody>\n",
       "</table>\n",
       "</div>"
      ],
      "text/plain": [
       "     Country  Date  Disease Name\n",
       "0     Africa     1             1\n",
       "1    Algeria     1             1\n",
       "2  Australia     1             1\n",
       "3      Benin     1             1\n",
       "4     Brazil    11            11"
      ]
     },
     "execution_count": 84,
     "metadata": {},
     "output_type": "execute_result"
    }
   ],
   "source": [
    "dismap = dismap.reset_index()\n",
    "dismap.head()"
   ]
  },
  {
   "cell_type": "code",
   "execution_count": 144,
   "metadata": {},
   "outputs": [
    {
     "data": {
      "text/html": [
       "<div>\n",
       "<style scoped>\n",
       "    .dataframe tbody tr th:only-of-type {\n",
       "        vertical-align: middle;\n",
       "    }\n",
       "\n",
       "    .dataframe tbody tr th {\n",
       "        vertical-align: top;\n",
       "    }\n",
       "\n",
       "    .dataframe thead th {\n",
       "        text-align: right;\n",
       "    }\n",
       "</style>\n",
       "<table border=\"1\" class=\"dataframe\">\n",
       "  <thead>\n",
       "    <tr style=\"text-align: right;\">\n",
       "      <th></th>\n",
       "      <th>Date</th>\n",
       "      <th>Disease Name</th>\n",
       "      <th>Country</th>\n",
       "    </tr>\n",
       "  </thead>\n",
       "  <tbody>\n",
       "    <tr>\n",
       "      <th>0</th>\n",
       "      <td>2018-10-25</td>\n",
       "      <td>Ebola virus</td>\n",
       "      <td>Congo</td>\n",
       "    </tr>\n",
       "    <tr>\n",
       "      <th>1</th>\n",
       "      <td>2018-10-18</td>\n",
       "      <td>Ebola virus</td>\n",
       "      <td>Congo</td>\n",
       "    </tr>\n",
       "    <tr>\n",
       "      <th>2</th>\n",
       "      <td>2018-10-15</td>\n",
       "      <td>Chikungunya</td>\n",
       "      <td>Sudan</td>\n",
       "    </tr>\n",
       "    <tr>\n",
       "      <th>3</th>\n",
       "      <td>2018-10-11</td>\n",
       "      <td>Ebola virus</td>\n",
       "      <td>Congo</td>\n",
       "    </tr>\n",
       "    <tr>\n",
       "      <th>4</th>\n",
       "      <td>2018-10-05</td>\n",
       "      <td>Cholera</td>\n",
       "      <td>Zimbabwe</td>\n",
       "    </tr>\n",
       "  </tbody>\n",
       "</table>\n",
       "</div>"
      ],
      "text/plain": [
       "        Date Disease Name   Country\n",
       "0 2018-10-25  Ebola virus     Congo\n",
       "1 2018-10-18  Ebola virus     Congo\n",
       "2 2018-10-15  Chikungunya     Sudan\n",
       "3 2018-10-11  Ebola virus     Congo\n",
       "4 2018-10-05      Cholera  Zimbabwe"
      ]
     },
     "execution_count": 144,
     "metadata": {},
     "output_type": "execute_result"
    }
   ],
   "source": [
    "# Country Mostly affected by epidemics\n",
    "diseaseAll.head()"
   ]
  },
  {
   "cell_type": "markdown",
   "metadata": {},
   "source": [
    "### FIGURE 1: THE PREVALENCE OF DISEASES ACROSS 56 COUNTRIES"
   ]
  },
  {
   "cell_type": "code",
   "execution_count": 163,
   "metadata": {},
   "outputs": [
    {
     "data": {
      "text/plain": [
       "Text(91.25,0.5,'Disease Count')"
      ]
     },
     "execution_count": 163,
     "metadata": {},
     "output_type": "execute_result"
    },
    {
     "data": {
      "image/png": "[encoded data removed]",
      "text/plain": [
       "<Figure size 936x576 with 1 Axes>"
      ]
     },
     "metadata": {},
     "output_type": "display_data"
    }
   ],
   "source": [
    "plt.figure(figsize=(13,8))\n",
    "plt.rcParams[\"xtick.labelsize\"] = 10\n",
    "ax=plt.gca()\n",
    "ax.set_facecolor(\"xkcd:black\")\n",
    "ax= sns.countplot(diseaseAll[\"Country\"])\n",
    "ax.set_xticklabels(ax.get_xticklabels(), rotation= 40, ha=\"right\")\n",
    "plt.tight_layout()\n",
    "plt.title(\"FIGURE 1: THE PREVALENCE OF DISEASES ACROSS 56 COUNTRIES\", fontsize= 18)\n",
    "plt.xlabel(\"Countries\", fontsize =15)\n",
    "plt.ylabel(\"Disease Count\", fontsize =15)"
   ]
  },
  {
   "cell_type": "code",
   "execution_count": null,
   "metadata": {},
   "outputs": [],
   "source": [
    "dfDate.plot(figsize=(16,10), linewidth=3, fontsize=20)\n",
    "ax=plt.gca()\n",
    "ax.set_facecolor(\"xkcd:light green\")\n",
    "plt.xlabel(\"Year\", fontsize=15)\n",
    "plt.ylabel(\"Difference between the Ethereum Coins(USD)\", fontsize=15)\n",
    "plt.title(\"COMPARISON OF ETHERUM OPEN, CLOSE, HIGH AND LOW PRICES OVER THE YEARS \", fontsize=20)"
   ]
  },
  {
   "cell_type": "code",
   "execution_count": null,
   "metadata": {},
   "outputs": [],
   "source": []
  },
  {
   "cell_type": "markdown",
   "metadata": {},
   "source": [
    "### Generating Choropleth Map For the frequency of diseases across the globe"
   ]
  },
  {
   "cell_type": "code",
   "execution_count": 97,
   "metadata": {},
   "outputs": [],
   "source": [
    "import plotly.plotly as py\n",
    "import plotly.tools as tls"
   ]
  },
  {
   "cell_type": "code",
   "execution_count": 74,
   "metadata": {},
   "outputs": [],
   "source": [
    "tls.set_credentials_file(username=\"bidatagal\", api_key=\"hvginfgvwe\")"
   ]
  },
  {
   "cell_type": "code",
   "execution_count": 89,
   "metadata": {},
   "outputs": [],
   "source": [
    "dismap[\"text\"] = \"Number of times disease Occured \"+dismap[\"Date\"].astype(str)+ \" times\""
   ]
  },
  {
   "cell_type": "code",
   "execution_count": 138,
   "metadata": {},
   "outputs": [],
   "source": [
    "data = [dict(type=\"choropleth\", autocolorscale= False, location = dismap[\"Country\"], z= dismap[\"Disease Name\"],\n",
    "        locationmode=\"country names\", text= dismap[\"text\"], colorscale = \"Earth\",\n",
    "        colorbar = dict(title = \"Disease Occurence numb\"))]\n"
   ]
  },
  {
   "cell_type": "code",
   "execution_count": 117,
   "metadata": {},
   "outputs": [
    {
     "data": {
      "text/plain": [
       "{'title': 'Frequency of diseases across the globe',\n",
       " 'geo': {'scope': 'africa',\n",
       "  'projection': {'type': 'africa'},\n",
       "  'showlakes': True,\n",
       "  'lakecolor': 'rgb(66,165,245)'}}"
      ]
     },
     "execution_count": 117,
     "metadata": {},
     "output_type": "execute_result"
    }
   ],
   "source": [
    "# Creating layout dictionary\n",
    "layout = dict(title=\"Frequency of diseases across the globe\", geo=dict(scope=\"africa\",\n",
    "                    projection=dict(type =\"africa\"), showlakes= True, lakecolor =\"rgb(66,165,245)\",),)\n",
    "layout"
   ]
  },
  {
   "cell_type": "code",
   "execution_count": 118,
   "metadata": {},
   "outputs": [],
   "source": [
    "fig = dict(data=data, layout=layout)"
   ]
  },
  {
   "cell_type": "code",
   "execution_count": 139,
   "metadata": {},
   "outputs": [],
   "source": [
    "py.iplot(fig, filename= \"d3-choropleth-map\")"
   ]
  },
  {
   "cell_type": "code",
   "execution_count": 15,
   "metadata": {},
   "outputs": [
    {
     "data": {
      "text/plain": [
       "56"
      ]
     },
     "execution_count": 15,
     "metadata": {},
     "output_type": "execute_result"
    }
   ],
   "source": [
    "#Number of Countries\n",
    "diseaseAll.Country.nunique()"
   ]
  },
  {
   "cell_type": "code",
   "execution_count": null,
   "metadata": {},
   "outputs": [],
   "source": []
  },
  {
   "cell_type": "code",
   "execution_count": 19,
   "metadata": {},
   "outputs": [
    {
     "data": {
      "text/plain": [
       "49"
      ]
     },
     "execution_count": 19,
     "metadata": {},
     "output_type": "execute_result"
    }
   ],
   "source": [
    "#Number of diseases\n",
    "diseaseAll[\"Disease Name\"].nunique()"
   ]
  },
  {
   "cell_type": "code",
   "execution_count": 141,
   "metadata": {},
   "outputs": [
    {
     "data": {
      "text/plain": [
       "Congo           31\n",
       "China           26\n",
       "Saudi Arabia    19\n",
       "Brazil          11\n",
       "Nigeria         11\n",
       "Name: Country, dtype: int64"
      ]
     },
     "execution_count": 141,
     "metadata": {},
     "output_type": "execute_result"
    }
   ],
   "source": [
    "#checking the number of countries affected by diseases \n",
    "diseaseAll[\"Country\"].value_counts().head()"
   ]
  },
  {
   "cell_type": "code",
   "execution_count": 22,
   "metadata": {},
   "outputs": [],
   "source": [
    "#x =diseaseAll[\"Country\"]\n",
    "#sns.countplot(x)"
   ]
  },
  {
   "cell_type": "code",
   "execution_count": 23,
   "metadata": {},
   "outputs": [
    {
     "data": {
      "text/plain": [
       "str"
      ]
     },
     "execution_count": 23,
     "metadata": {},
     "output_type": "execute_result"
    }
   ],
   "source": [
    "type(\"Date\")"
   ]
  },
  {
   "cell_type": "code",
   "execution_count": 24,
   "metadata": {},
   "outputs": [
    {
     "data": {
      "text/plain": [
       "0   2018-10-25\n",
       "1   2018-10-18\n",
       "2   2018-10-15\n",
       "3   2018-10-11\n",
       "4   2018-10-05\n",
       "Name: Date, dtype: datetime64[ns]"
      ]
     },
     "execution_count": 24,
     "metadata": {},
     "output_type": "execute_result"
    }
   ],
   "source": [
    "diseaseAll[\"Date\"] = pd.to_datetime(diseaseAll[\"Date\"], format= '%Y/%m/%d')\n",
    "diseaseAll[\"Date\"].head(5)"
   ]
  },
  {
   "cell_type": "code",
   "execution_count": 26,
   "metadata": {},
   "outputs": [],
   "source": [
    "diseaseAllCopy = diseaseAll.copy()"
   ]
  },
  {
   "cell_type": "code",
   "execution_count": 27,
   "metadata": {},
   "outputs": [
    {
     "data": {
      "text/plain": [
       "['Year', 'Month', 'DayOfWeek']"
      ]
     },
     "execution_count": 27,
     "metadata": {},
     "output_type": "execute_result"
    }
   ],
   "source": [
    "times = 'Year Month DayOfWeek'.split()\n",
    "times"
   ]
  },
  {
   "cell_type": "code",
   "execution_count": 29,
   "metadata": {},
   "outputs": [
    {
     "data": {
      "text/html": [
       "<div>\n",
       "<style scoped>\n",
       "    .dataframe tbody tr th:only-of-type {\n",
       "        vertical-align: middle;\n",
       "    }\n",
       "\n",
       "    .dataframe tbody tr th {\n",
       "        vertical-align: top;\n",
       "    }\n",
       "\n",
       "    .dataframe thead th {\n",
       "        text-align: right;\n",
       "    }\n",
       "</style>\n",
       "<table border=\"1\" class=\"dataframe\">\n",
       "  <thead>\n",
       "    <tr style=\"text-align: right;\">\n",
       "      <th></th>\n",
       "      <th>Year</th>\n",
       "      <th>Month</th>\n",
       "      <th>DayOfWeek</th>\n",
       "    </tr>\n",
       "  </thead>\n",
       "  <tbody>\n",
       "    <tr>\n",
       "      <th>0</th>\n",
       "      <td>2018</td>\n",
       "      <td>10</td>\n",
       "      <td>3</td>\n",
       "    </tr>\n",
       "    <tr>\n",
       "      <th>1</th>\n",
       "      <td>2018</td>\n",
       "      <td>10</td>\n",
       "      <td>3</td>\n",
       "    </tr>\n",
       "    <tr>\n",
       "      <th>2</th>\n",
       "      <td>2018</td>\n",
       "      <td>10</td>\n",
       "      <td>0</td>\n",
       "    </tr>\n",
       "    <tr>\n",
       "      <th>3</th>\n",
       "      <td>2018</td>\n",
       "      <td>10</td>\n",
       "      <td>3</td>\n",
       "    </tr>\n",
       "    <tr>\n",
       "      <th>4</th>\n",
       "      <td>2018</td>\n",
       "      <td>10</td>\n",
       "      <td>4</td>\n",
       "    </tr>\n",
       "  </tbody>\n",
       "</table>\n",
       "</div>"
      ],
      "text/plain": [
       "   Year  Month  DayOfWeek\n",
       "0  2018     10          3\n",
       "1  2018     10          3\n",
       "2  2018     10          0\n",
       "3  2018     10          3\n",
       "4  2018     10          4"
      ]
     },
     "execution_count": 29,
     "metadata": {},
     "output_type": "execute_result"
    }
   ],
   "source": [
    "#Splitting the date column\n",
    "diseaseAllCopy['Year'] = diseaseAllCopy[\"Date\"].apply(lambda x: x.year)\n",
    "diseaseAllCopy['Month'] = diseaseAllCopy[\"Date\"].apply(lambda y: y.month)\n",
    "diseaseAllCopy['DayOfWeek'] = diseaseAllCopy[\"Date\"].apply(lambda z: z.dayofweek)\n",
    "diseaseAllCopy[times].head(5)"
   ]
  },
  {
   "cell_type": "code",
   "execution_count": 30,
   "metadata": {},
   "outputs": [
    {
     "data": {
      "text/plain": [
       "0    Thu\n",
       "1    Thu\n",
       "2    Mon\n",
       "3    Thu\n",
       "4    Fri\n",
       "Name: DayOfWeek, dtype: object"
      ]
     },
     "execution_count": 30,
     "metadata": {},
     "output_type": "execute_result"
    }
   ],
   "source": [
    "dmap = {0:'Mon',1:'Tue',2:'Wed',3:'Thu',4:'Fri',5:'Sat',6:'Sun'}\n",
    "diseaseAllCopy['DayOfWeek'] = diseaseAllCopy['DayOfWeek'].map(dmap)\n",
    "diseaseAllCopy['DayOfWeek'].head()"
   ]
  },
  {
   "cell_type": "code",
   "execution_count": 47,
   "metadata": {},
   "outputs": [
    {
     "data": {
      "text/plain": [
       "0    Oct\n",
       "1    Oct\n",
       "2    Oct\n",
       "3    Oct\n",
       "4    Oct\n",
       "Name: Month, dtype: object"
      ]
     },
     "execution_count": 47,
     "metadata": {},
     "output_type": "execute_result"
    }
   ],
   "source": [
    "dmap2 = {1:'Jan', 2:'Feb',3:'Mar', 4:'Apr', 5:'May', 6:'Jun',\n",
    "         7:'Jul', 8: 'Aug', 9: 'Sep', 10: 'Oct', 11: 'Nov', 12: 'Dec'}\n",
    "diseaseAllCopy['Month'] = diseaseAllCopy['Month'].map(dmap2)\n",
    "diseaseAllCopy['Month'].head()"
   ]
  },
  {
   "cell_type": "code",
   "execution_count": 48,
   "metadata": {},
   "outputs": [
    {
     "data": {
      "text/html": [
       "<div>\n",
       "<style scoped>\n",
       "    .dataframe tbody tr th:only-of-type {\n",
       "        vertical-align: middle;\n",
       "    }\n",
       "\n",
       "    .dataframe tbody tr th {\n",
       "        vertical-align: top;\n",
       "    }\n",
       "\n",
       "    .dataframe thead th {\n",
       "        text-align: right;\n",
       "    }\n",
       "</style>\n",
       "<table border=\"1\" class=\"dataframe\">\n",
       "  <thead>\n",
       "    <tr style=\"text-align: right;\">\n",
       "      <th></th>\n",
       "      <th>Date</th>\n",
       "      <th>Disease Name</th>\n",
       "      <th>Country</th>\n",
       "      <th>Year</th>\n",
       "      <th>Month</th>\n",
       "      <th>DayOfWeek</th>\n",
       "    </tr>\n",
       "  </thead>\n",
       "  <tbody>\n",
       "    <tr>\n",
       "      <th>0</th>\n",
       "      <td>2018-10-25</td>\n",
       "      <td>Ebola virus</td>\n",
       "      <td>Congo</td>\n",
       "      <td>2018</td>\n",
       "      <td>Oct</td>\n",
       "      <td>Thu</td>\n",
       "    </tr>\n",
       "    <tr>\n",
       "      <th>1</th>\n",
       "      <td>2018-10-18</td>\n",
       "      <td>Ebola virus</td>\n",
       "      <td>Congo</td>\n",
       "      <td>2018</td>\n",
       "      <td>Oct</td>\n",
       "      <td>Thu</td>\n",
       "    </tr>\n",
       "    <tr>\n",
       "      <th>2</th>\n",
       "      <td>2018-10-15</td>\n",
       "      <td>Chikungunya</td>\n",
       "      <td>Sudan</td>\n",
       "      <td>2018</td>\n",
       "      <td>Oct</td>\n",
       "      <td>Mon</td>\n",
       "    </tr>\n",
       "    <tr>\n",
       "      <th>3</th>\n",
       "      <td>2018-10-11</td>\n",
       "      <td>Ebola virus</td>\n",
       "      <td>Congo</td>\n",
       "      <td>2018</td>\n",
       "      <td>Oct</td>\n",
       "      <td>Thu</td>\n",
       "    </tr>\n",
       "    <tr>\n",
       "      <th>4</th>\n",
       "      <td>2018-10-05</td>\n",
       "      <td>Cholera</td>\n",
       "      <td>Zimbabwe</td>\n",
       "      <td>2018</td>\n",
       "      <td>Oct</td>\n",
       "      <td>Fri</td>\n",
       "    </tr>\n",
       "  </tbody>\n",
       "</table>\n",
       "</div>"
      ],
      "text/plain": [
       "        Date Disease Name   Country  Year Month DayOfWeek\n",
       "0 2018-10-25  Ebola virus     Congo  2018   Oct       Thu\n",
       "1 2018-10-18  Ebola virus     Congo  2018   Oct       Thu\n",
       "2 2018-10-15  Chikungunya     Sudan  2018   Oct       Mon\n",
       "3 2018-10-11  Ebola virus     Congo  2018   Oct       Thu\n",
       "4 2018-10-05      Cholera  Zimbabwe  2018   Oct       Fri"
      ]
     },
     "execution_count": 48,
     "metadata": {},
     "output_type": "execute_result"
    }
   ],
   "source": [
    "diseaseAllCopy.head()"
   ]
  },
  {
   "cell_type": "code",
   "execution_count": 49,
   "metadata": {},
   "outputs": [
    {
     "data": {
      "text/html": [
       "<div>\n",
       "<style scoped>\n",
       "    .dataframe tbody tr th:only-of-type {\n",
       "        vertical-align: middle;\n",
       "    }\n",
       "\n",
       "    .dataframe tbody tr th {\n",
       "        vertical-align: top;\n",
       "    }\n",
       "\n",
       "    .dataframe thead th {\n",
       "        text-align: right;\n",
       "    }\n",
       "</style>\n",
       "<table border=\"1\" class=\"dataframe\">\n",
       "  <thead>\n",
       "    <tr style=\"text-align: right;\">\n",
       "      <th></th>\n",
       "      <th>Date</th>\n",
       "      <th>Disease Name</th>\n",
       "      <th>Country</th>\n",
       "      <th>Year</th>\n",
       "      <th>Month</th>\n",
       "      <th>DayOfWeek</th>\n",
       "    </tr>\n",
       "  </thead>\n",
       "  <tbody>\n",
       "    <tr>\n",
       "      <th>0</th>\n",
       "      <td>2018-10-25</td>\n",
       "      <td>Ebola virus</td>\n",
       "      <td>Congo</td>\n",
       "      <td>2018</td>\n",
       "      <td>Oct</td>\n",
       "      <td>Thu</td>\n",
       "    </tr>\n",
       "    <tr>\n",
       "      <th>1</th>\n",
       "      <td>2018-10-18</td>\n",
       "      <td>Ebola virus</td>\n",
       "      <td>Congo</td>\n",
       "      <td>2018</td>\n",
       "      <td>Oct</td>\n",
       "      <td>Thu</td>\n",
       "    </tr>\n",
       "    <tr>\n",
       "      <th>3</th>\n",
       "      <td>2018-10-11</td>\n",
       "      <td>Ebola virus</td>\n",
       "      <td>Congo</td>\n",
       "      <td>2018</td>\n",
       "      <td>Oct</td>\n",
       "      <td>Thu</td>\n",
       "    </tr>\n",
       "    <tr>\n",
       "      <th>7</th>\n",
       "      <td>2018-10-04</td>\n",
       "      <td>Ebola virus</td>\n",
       "      <td>Congo</td>\n",
       "      <td>2018</td>\n",
       "      <td>Oct</td>\n",
       "      <td>Thu</td>\n",
       "    </tr>\n",
       "    <tr>\n",
       "      <th>9</th>\n",
       "      <td>2018-09-27</td>\n",
       "      <td>Ebola virus</td>\n",
       "      <td>Congo</td>\n",
       "      <td>2018</td>\n",
       "      <td>Sep</td>\n",
       "      <td>Thu</td>\n",
       "    </tr>\n",
       "  </tbody>\n",
       "</table>\n",
       "</div>"
      ],
      "text/plain": [
       "        Date Disease Name Country  Year Month DayOfWeek\n",
       "0 2018-10-25  Ebola virus   Congo  2018   Oct       Thu\n",
       "1 2018-10-18  Ebola virus   Congo  2018   Oct       Thu\n",
       "3 2018-10-11  Ebola virus   Congo  2018   Oct       Thu\n",
       "7 2018-10-04  Ebola virus   Congo  2018   Oct       Thu\n",
       "9 2018-09-27  Ebola virus   Congo  2018   Sep       Thu"
      ]
     },
     "execution_count": 49,
     "metadata": {},
     "output_type": "execute_result"
    }
   ],
   "source": [
    "ebolaFreq = diseaseAllCopy[diseaseAllCopy['Disease Name'] == \"Ebola virus\"]\n",
    "ebolaFreq.head()"
   ]
  },
  {
   "cell_type": "markdown",
   "metadata": {},
   "source": [
    "### FIGURE 2: The Occurence of Ebola Virus over the months across 56 countries around the globe"
   ]
  },
  {
   "cell_type": "code",
   "execution_count": 166,
   "metadata": {},
   "outputs": [
    {
     "data": {
      "text/plain": [
       "Text(0,0.5,'Disease Count')"
      ]
     },
     "execution_count": 166,
     "metadata": {},
     "output_type": "execute_result"
    },
    {
     "data": {
      "image/png": "[encoded data removed]",
      "text/plain": [
       "<Figure size 648x504 with 1 Axes>"
      ]
     },
     "metadata": {},
     "output_type": "display_data"
    }
   ],
   "source": [
    "plt.figure(figsize=(9,7))\n",
    "ax=plt.gca()\n",
    "ax.set_facecolor(\"xkcd:cyan\")\n",
    "sns.countplot(diseaseAllCopy['Month'], hue=diseaseAllCopy['Disease Name'] == \"Ebola virus\")\n",
    "plt.legend(bbox_to_anchor = (1.05,1), loc=2, borderaxespad=0.)\n",
    "plt.title(\"Figure 2: The Occurrence of Ebola Virus over the months across 56 countries around the globe\", fontsize=15)\n",
    "plt.xlabel(\"Months\", fontsize =15)\n",
    "plt.ylabel(\"Disease Count\", fontsize =15)\n"
   ]
  },
  {
   "cell_type": "markdown",
   "metadata": {},
   "source": [
    "### FIGURE 3: The Occurence of MERS-CoV over the months across 56 countries around the globe"
   ]
  },
  {
   "cell_type": "code",
   "execution_count": 157,
   "metadata": {},
   "outputs": [
    {
     "data": {
      "text/plain": [
       "Text(0.5,1,'Figure 3: The Occurence of MERS-CoV Virus over the months across 56 countries around the globe')"
      ]
     },
     "execution_count": 157,
     "metadata": {},
     "output_type": "execute_result"
    },
    {
     "data": {
      "image/png": "[encoded data removed]",
      "text/plain": [
       "<Figure size 648x504 with 1 Axes>"
      ]
     },
     "metadata": {},
     "output_type": "display_data"
    }
   ],
   "source": [
    "plt.figure(figsize=(9,7))\n",
    "sns.countplot(diseaseAllCopy['Month'], hue=diseaseAllCopy['Disease Name'] ==\n",
    "              \"Middle East respiratory syndrome coronavirus (MERS-CoV)\")\n",
    "plt.legend(bbox_to_anchor = (1.05,1), loc=2, borderaxespad=0.)\n",
    "plt.title(\"Figure 3: The Occurence of MERS-CoV Virus over the months across 56 countries around the globe\")"
   ]
  },
  {
   "cell_type": "code",
   "execution_count": 60,
   "metadata": {},
   "outputs": [],
   "source": [
    "dDate = diseaseAllCopy.groupby(\"Date\").count()"
   ]
  },
  {
   "cell_type": "code",
   "execution_count": 61,
   "metadata": {},
   "outputs": [
    {
     "data": {
      "text/html": [
       "<div>\n",
       "<style scoped>\n",
       "    .dataframe tbody tr th:only-of-type {\n",
       "        vertical-align: middle;\n",
       "    }\n",
       "\n",
       "    .dataframe tbody tr th {\n",
       "        vertical-align: top;\n",
       "    }\n",
       "\n",
       "    .dataframe thead th {\n",
       "        text-align: right;\n",
       "    }\n",
       "</style>\n",
       "<table border=\"1\" class=\"dataframe\">\n",
       "  <thead>\n",
       "    <tr style=\"text-align: right;\">\n",
       "      <th></th>\n",
       "      <th>Date</th>\n",
       "      <th>Disease Name</th>\n",
       "      <th>Country</th>\n",
       "      <th>Year</th>\n",
       "      <th>Month</th>\n",
       "      <th>DayOfWeek</th>\n",
       "    </tr>\n",
       "  </thead>\n",
       "  <tbody>\n",
       "    <tr>\n",
       "      <th>0</th>\n",
       "      <td>2017-01-03</td>\n",
       "      <td>1</td>\n",
       "      <td>1</td>\n",
       "      <td>1</td>\n",
       "      <td>1</td>\n",
       "      <td>1</td>\n",
       "    </tr>\n",
       "    <tr>\n",
       "      <th>1</th>\n",
       "      <td>2017-01-09</td>\n",
       "      <td>1</td>\n",
       "      <td>1</td>\n",
       "      <td>1</td>\n",
       "      <td>1</td>\n",
       "      <td>1</td>\n",
       "    </tr>\n",
       "    <tr>\n",
       "      <th>2</th>\n",
       "      <td>2017-01-13</td>\n",
       "      <td>1</td>\n",
       "      <td>1</td>\n",
       "      <td>1</td>\n",
       "      <td>1</td>\n",
       "      <td>1</td>\n",
       "    </tr>\n",
       "    <tr>\n",
       "      <th>3</th>\n",
       "      <td>2017-01-17</td>\n",
       "      <td>2</td>\n",
       "      <td>2</td>\n",
       "      <td>2</td>\n",
       "      <td>2</td>\n",
       "      <td>2</td>\n",
       "    </tr>\n",
       "    <tr>\n",
       "      <th>4</th>\n",
       "      <td>2017-01-18</td>\n",
       "      <td>1</td>\n",
       "      <td>1</td>\n",
       "      <td>1</td>\n",
       "      <td>1</td>\n",
       "      <td>1</td>\n",
       "    </tr>\n",
       "  </tbody>\n",
       "</table>\n",
       "</div>"
      ],
      "text/plain": [
       "        Date  Disease Name  Country  Year  Month  DayOfWeek\n",
       "0 2017-01-03             1        1     1      1          1\n",
       "1 2017-01-09             1        1     1      1          1\n",
       "2 2017-01-13             1        1     1      1          1\n",
       "3 2017-01-17             2        2     2      2          2\n",
       "4 2017-01-18             1        1     1      1          1"
      ]
     },
     "execution_count": 61,
     "metadata": {},
     "output_type": "execute_result"
    }
   ],
   "source": [
    "disDate = dDate.reset_index()\n",
    "disDate.head()"
   ]
  },
  {
   "cell_type": "code",
   "execution_count": 64,
   "metadata": {},
   "outputs": [
    {
     "data": {
      "text/plain": [
       "Text(0.5,0,'Date')"
      ]
     },
     "execution_count": 64,
     "metadata": {},
     "output_type": "execute_result"
    },
    {
     "data": {
      "image/png": "[encoded data removed]",
      "text/plain": [
       "<Figure size 648x504 with 1 Axes>"
      ]
     },
     "metadata": {},
     "output_type": "display_data"
    }
   ],
   "source": [
    "plt.figure(figsize=(9,7))\n",
    "p =disDate[\"Date\"]\n",
    "q= disDate[\"Country\"]\n",
    "plt.plot(p,q)\n",
    "#plt.ylim([100, 1000])\n",
    "plt.xlabel(\"Date\")"
   ]
  },
  {
   "cell_type": "code",
   "execution_count": 65,
   "metadata": {},
   "outputs": [],
   "source": [
    "dis= diseaseAllCopy[[\"Date\", \"Disease Name\"]]"
   ]
  },
  {
   "cell_type": "code",
   "execution_count": 68,
   "metadata": {},
   "outputs": [],
   "source": [
    "u =  dis[ dis[\"Disease Name\"] == \"Middle East respiratory syndrome coronavirus (MERS-CoV)\"]"
   ]
  },
  {
   "cell_type": "code",
   "execution_count": 69,
   "metadata": {},
   "outputs": [
    {
     "data": {
      "text/html": [
       "<div>\n",
       "<style scoped>\n",
       "    .dataframe tbody tr th:only-of-type {\n",
       "        vertical-align: middle;\n",
       "    }\n",
       "\n",
       "    .dataframe tbody tr th {\n",
       "        vertical-align: top;\n",
       "    }\n",
       "\n",
       "    .dataframe thead th {\n",
       "        text-align: right;\n",
       "    }\n",
       "</style>\n",
       "<table border=\"1\" class=\"dataframe\">\n",
       "  <thead>\n",
       "    <tr style=\"text-align: right;\">\n",
       "      <th></th>\n",
       "      <th>Disease Name</th>\n",
       "    </tr>\n",
       "    <tr>\n",
       "      <th>Date</th>\n",
       "      <th></th>\n",
       "    </tr>\n",
       "  </thead>\n",
       "  <tbody>\n",
       "    <tr>\n",
       "      <th>2017-01-17</th>\n",
       "      <td>1</td>\n",
       "    </tr>\n",
       "    <tr>\n",
       "      <th>2017-01-26</th>\n",
       "      <td>1</td>\n",
       "    </tr>\n",
       "    <tr>\n",
       "      <th>2017-02-10</th>\n",
       "      <td>1</td>\n",
       "    </tr>\n",
       "    <tr>\n",
       "      <th>2017-03-10</th>\n",
       "      <td>1</td>\n",
       "    </tr>\n",
       "    <tr>\n",
       "      <th>2017-04-03</th>\n",
       "      <td>1</td>\n",
       "    </tr>\n",
       "  </tbody>\n",
       "</table>\n",
       "</div>"
      ],
      "text/plain": [
       "            Disease Name\n",
       "Date                    \n",
       "2017-01-17             1\n",
       "2017-01-26             1\n",
       "2017-02-10             1\n",
       "2017-03-10             1\n",
       "2017-04-03             1"
      ]
     },
     "execution_count": 69,
     "metadata": {},
     "output_type": "execute_result"
    }
   ],
   "source": [
    "dfM =u.groupby(\"Date\").count()\n",
    "dfM.head()"
   ]
  },
  {
   "cell_type": "code",
   "execution_count": 70,
   "metadata": {},
   "outputs": [
    {
     "data": {
      "text/html": [
       "<div>\n",
       "<style scoped>\n",
       "    .dataframe tbody tr th:only-of-type {\n",
       "        vertical-align: middle;\n",
       "    }\n",
       "\n",
       "    .dataframe tbody tr th {\n",
       "        vertical-align: top;\n",
       "    }\n",
       "\n",
       "    .dataframe thead th {\n",
       "        text-align: right;\n",
       "    }\n",
       "</style>\n",
       "<table border=\"1\" class=\"dataframe\">\n",
       "  <thead>\n",
       "    <tr style=\"text-align: right;\">\n",
       "      <th></th>\n",
       "      <th>Date</th>\n",
       "      <th>Disease Name</th>\n",
       "    </tr>\n",
       "  </thead>\n",
       "  <tbody>\n",
       "    <tr>\n",
       "      <th>0</th>\n",
       "      <td>2017-01-17</td>\n",
       "      <td>1</td>\n",
       "    </tr>\n",
       "    <tr>\n",
       "      <th>1</th>\n",
       "      <td>2017-01-26</td>\n",
       "      <td>1</td>\n",
       "    </tr>\n",
       "    <tr>\n",
       "      <th>2</th>\n",
       "      <td>2017-02-10</td>\n",
       "      <td>1</td>\n",
       "    </tr>\n",
       "    <tr>\n",
       "      <th>3</th>\n",
       "      <td>2017-03-10</td>\n",
       "      <td>1</td>\n",
       "    </tr>\n",
       "    <tr>\n",
       "      <th>4</th>\n",
       "      <td>2017-04-03</td>\n",
       "      <td>1</td>\n",
       "    </tr>\n",
       "  </tbody>\n",
       "</table>\n",
       "</div>"
      ],
      "text/plain": [
       "        Date  Disease Name\n",
       "0 2017-01-17             1\n",
       "1 2017-01-26             1\n",
       "2 2017-02-10             1\n",
       "3 2017-03-10             1\n",
       "4 2017-04-03             1"
      ]
     },
     "execution_count": 70,
     "metadata": {},
     "output_type": "execute_result"
    }
   ],
   "source": [
    "#Resseting index\n",
    "dfM = dfM.reset_index()\n",
    "dfM.head()"
   ]
  },
  {
   "cell_type": "code",
   "execution_count": 167,
   "metadata": {},
   "outputs": [
    {
     "data": {
      "text/html": [
       "<div>\n",
       "<style scoped>\n",
       "    .dataframe tbody tr th:only-of-type {\n",
       "        vertical-align: middle;\n",
       "    }\n",
       "\n",
       "    .dataframe tbody tr th {\n",
       "        vertical-align: top;\n",
       "    }\n",
       "\n",
       "    .dataframe thead th {\n",
       "        text-align: right;\n",
       "    }\n",
       "</style>\n",
       "<table border=\"1\" class=\"dataframe\">\n",
       "  <thead>\n",
       "    <tr style=\"text-align: right;\">\n",
       "      <th></th>\n",
       "      <th>Date</th>\n",
       "      <th>Disease Name</th>\n",
       "      <th>Country</th>\n",
       "      <th>Year</th>\n",
       "      <th>Month</th>\n",
       "      <th>DayOfWeek</th>\n",
       "    </tr>\n",
       "  </thead>\n",
       "  <tbody>\n",
       "    <tr>\n",
       "      <th>0</th>\n",
       "      <td>2018-10-25</td>\n",
       "      <td>Ebola virus</td>\n",
       "      <td>Congo</td>\n",
       "      <td>2018</td>\n",
       "      <td>Oct</td>\n",
       "      <td>Thu</td>\n",
       "    </tr>\n",
       "    <tr>\n",
       "      <th>1</th>\n",
       "      <td>2018-10-18</td>\n",
       "      <td>Ebola virus</td>\n",
       "      <td>Congo</td>\n",
       "      <td>2018</td>\n",
       "      <td>Oct</td>\n",
       "      <td>Thu</td>\n",
       "    </tr>\n",
       "    <tr>\n",
       "      <th>2</th>\n",
       "      <td>2018-10-15</td>\n",
       "      <td>Chikungunya</td>\n",
       "      <td>Sudan</td>\n",
       "      <td>2018</td>\n",
       "      <td>Oct</td>\n",
       "      <td>Mon</td>\n",
       "    </tr>\n",
       "    <tr>\n",
       "      <th>3</th>\n",
       "      <td>2018-10-11</td>\n",
       "      <td>Ebola virus</td>\n",
       "      <td>Congo</td>\n",
       "      <td>2018</td>\n",
       "      <td>Oct</td>\n",
       "      <td>Thu</td>\n",
       "    </tr>\n",
       "    <tr>\n",
       "      <th>4</th>\n",
       "      <td>2018-10-05</td>\n",
       "      <td>Cholera</td>\n",
       "      <td>Zimbabwe</td>\n",
       "      <td>2018</td>\n",
       "      <td>Oct</td>\n",
       "      <td>Fri</td>\n",
       "    </tr>\n",
       "  </tbody>\n",
       "</table>\n",
       "</div>"
      ],
      "text/plain": [
       "        Date Disease Name   Country  Year Month DayOfWeek\n",
       "0 2018-10-25  Ebola virus     Congo  2018   Oct       Thu\n",
       "1 2018-10-18  Ebola virus     Congo  2018   Oct       Thu\n",
       "2 2018-10-15  Chikungunya     Sudan  2018   Oct       Mon\n",
       "3 2018-10-11  Ebola virus     Congo  2018   Oct       Thu\n",
       "4 2018-10-05      Cholera  Zimbabwe  2018   Oct       Fri"
      ]
     },
     "execution_count": 167,
     "metadata": {},
     "output_type": "execute_result"
    }
   ],
   "source": [
    "diseaseAllCopy.head()"
   ]
  },
  {
   "cell_type": "code",
   "execution_count": 133,
   "metadata": {},
   "outputs": [
    {
     "data": {
      "text/html": [
       "<div>\n",
       "<style scoped>\n",
       "    .dataframe tbody tr th:only-of-type {\n",
       "        vertical-align: middle;\n",
       "    }\n",
       "\n",
       "    .dataframe tbody tr th {\n",
       "        vertical-align: top;\n",
       "    }\n",
       "\n",
       "    .dataframe thead th {\n",
       "        text-align: right;\n",
       "    }\n",
       "</style>\n",
       "<table border=\"1\" class=\"dataframe\">\n",
       "  <thead>\n",
       "    <tr style=\"text-align: right;\">\n",
       "      <th></th>\n",
       "      <th></th>\n",
       "      <th>Date</th>\n",
       "      <th>Disease Name</th>\n",
       "      <th>Country</th>\n",
       "      <th>Year</th>\n",
       "    </tr>\n",
       "    <tr>\n",
       "      <th>DayOfWeek</th>\n",
       "      <th>Month</th>\n",
       "      <th></th>\n",
       "      <th></th>\n",
       "      <th></th>\n",
       "      <th></th>\n",
       "    </tr>\n",
       "  </thead>\n",
       "  <tbody>\n",
       "    <tr>\n",
       "      <th rowspan=\"5\" valign=\"top\">Fri</th>\n",
       "      <th>Apr</th>\n",
       "      <td>1</td>\n",
       "      <td>1</td>\n",
       "      <td>1</td>\n",
       "      <td>1</td>\n",
       "    </tr>\n",
       "    <tr>\n",
       "      <th>Aug</th>\n",
       "      <td>8</td>\n",
       "      <td>8</td>\n",
       "      <td>8</td>\n",
       "      <td>8</td>\n",
       "    </tr>\n",
       "    <tr>\n",
       "      <th>Dec</th>\n",
       "      <td>4</td>\n",
       "      <td>4</td>\n",
       "      <td>4</td>\n",
       "      <td>4</td>\n",
       "    </tr>\n",
       "    <tr>\n",
       "      <th>Feb</th>\n",
       "      <td>2</td>\n",
       "      <td>2</td>\n",
       "      <td>2</td>\n",
       "      <td>2</td>\n",
       "    </tr>\n",
       "    <tr>\n",
       "      <th>Jan</th>\n",
       "      <td>4</td>\n",
       "      <td>4</td>\n",
       "      <td>4</td>\n",
       "      <td>4</td>\n",
       "    </tr>\n",
       "  </tbody>\n",
       "</table>\n",
       "</div>"
      ],
      "text/plain": [
       "                 Date  Disease Name  Country  Year\n",
       "DayOfWeek Month                                   \n",
       "Fri       Apr       1             1        1     1\n",
       "          Aug       8             8        8     8\n",
       "          Dec       4             4        4     4\n",
       "          Feb       2             2        2     2\n",
       "          Jan       4             4        4     4"
      ]
     },
     "execution_count": 133,
     "metadata": {},
     "output_type": "execute_result"
    }
   ],
   "source": [
    "dfstack = diseaseAllCopy.groupby([\"DayOfWeek\", \"Month\"]).count()\n",
    "dfstack.head()"
   ]
  },
  {
   "cell_type": "code",
   "execution_count": 134,
   "metadata": {},
   "outputs": [
    {
     "data": {
      "text/html": [
       "<div>\n",
       "<style scoped>\n",
       "    .dataframe tbody tr th:only-of-type {\n",
       "        vertical-align: middle;\n",
       "    }\n",
       "\n",
       "    .dataframe tbody tr th {\n",
       "        vertical-align: top;\n",
       "    }\n",
       "\n",
       "    .dataframe thead th {\n",
       "        text-align: right;\n",
       "    }\n",
       "</style>\n",
       "<table border=\"1\" class=\"dataframe\">\n",
       "  <thead>\n",
       "    <tr style=\"text-align: right;\">\n",
       "      <th>Month</th>\n",
       "      <th>Apr</th>\n",
       "      <th>Aug</th>\n",
       "      <th>Dec</th>\n",
       "      <th>Feb</th>\n",
       "      <th>Jan</th>\n",
       "      <th>Jul</th>\n",
       "      <th>Jun</th>\n",
       "      <th>Mar</th>\n",
       "      <th>May</th>\n",
       "      <th>Nov</th>\n",
       "      <th>Oct</th>\n",
       "      <th>Sep</th>\n",
       "    </tr>\n",
       "    <tr>\n",
       "      <th>DayOfWeek</th>\n",
       "      <th></th>\n",
       "      <th></th>\n",
       "      <th></th>\n",
       "      <th></th>\n",
       "      <th></th>\n",
       "      <th></th>\n",
       "      <th></th>\n",
       "      <th></th>\n",
       "      <th></th>\n",
       "      <th></th>\n",
       "      <th></th>\n",
       "      <th></th>\n",
       "    </tr>\n",
       "  </thead>\n",
       "  <tbody>\n",
       "    <tr>\n",
       "      <th>Fri</th>\n",
       "      <td>1.0</td>\n",
       "      <td>8.0</td>\n",
       "      <td>4.0</td>\n",
       "      <td>2.0</td>\n",
       "      <td>4.0</td>\n",
       "      <td>2.0</td>\n",
       "      <td>NaN</td>\n",
       "      <td>11.0</td>\n",
       "      <td>3.0</td>\n",
       "      <td>2.0</td>\n",
       "      <td>3.0</td>\n",
       "      <td>7.0</td>\n",
       "    </tr>\n",
       "    <tr>\n",
       "      <th>Mon</th>\n",
       "      <td>4.0</td>\n",
       "      <td>2.0</td>\n",
       "      <td>2.0</td>\n",
       "      <td>6.0</td>\n",
       "      <td>4.0</td>\n",
       "      <td>1.0</td>\n",
       "      <td>5.0</td>\n",
       "      <td>2.0</td>\n",
       "      <td>4.0</td>\n",
       "      <td>2.0</td>\n",
       "      <td>3.0</td>\n",
       "      <td>NaN</td>\n",
       "    </tr>\n",
       "    <tr>\n",
       "      <th>Sat</th>\n",
       "      <td>NaN</td>\n",
       "      <td>1.0</td>\n",
       "      <td>NaN</td>\n",
       "      <td>NaN</td>\n",
       "      <td>NaN</td>\n",
       "      <td>NaN</td>\n",
       "      <td>NaN</td>\n",
       "      <td>NaN</td>\n",
       "      <td>1.0</td>\n",
       "      <td>NaN</td>\n",
       "      <td>NaN</td>\n",
       "      <td>NaN</td>\n",
       "    </tr>\n",
       "    <tr>\n",
       "      <th>Sun</th>\n",
       "      <td>NaN</td>\n",
       "      <td>NaN</td>\n",
       "      <td>NaN</td>\n",
       "      <td>NaN</td>\n",
       "      <td>NaN</td>\n",
       "      <td>NaN</td>\n",
       "      <td>NaN</td>\n",
       "      <td>NaN</td>\n",
       "      <td>NaN</td>\n",
       "      <td>NaN</td>\n",
       "      <td>1.0</td>\n",
       "      <td>NaN</td>\n",
       "    </tr>\n",
       "    <tr>\n",
       "      <th>Thu</th>\n",
       "      <td>3.0</td>\n",
       "      <td>2.0</td>\n",
       "      <td>1.0</td>\n",
       "      <td>3.0</td>\n",
       "      <td>1.0</td>\n",
       "      <td>2.0</td>\n",
       "      <td>2.0</td>\n",
       "      <td>5.0</td>\n",
       "      <td>5.0</td>\n",
       "      <td>1.0</td>\n",
       "      <td>6.0</td>\n",
       "      <td>4.0</td>\n",
       "    </tr>\n",
       "  </tbody>\n",
       "</table>\n",
       "</div>"
      ],
      "text/plain": [
       "Month      Apr  Aug  Dec  Feb  Jan  Jul  Jun   Mar  May  Nov  Oct  Sep\n",
       "DayOfWeek                                                             \n",
       "Fri        1.0  8.0  4.0  2.0  4.0  2.0  NaN  11.0  3.0  2.0  3.0  7.0\n",
       "Mon        4.0  2.0  2.0  6.0  4.0  1.0  5.0   2.0  4.0  2.0  3.0  NaN\n",
       "Sat        NaN  1.0  NaN  NaN  NaN  NaN  NaN   NaN  1.0  NaN  NaN  NaN\n",
       "Sun        NaN  NaN  NaN  NaN  NaN  NaN  NaN   NaN  NaN  NaN  1.0  NaN\n",
       "Thu        3.0  2.0  1.0  3.0  1.0  2.0  2.0   5.0  5.0  1.0  6.0  4.0"
      ]
     },
     "execution_count": 134,
     "metadata": {},
     "output_type": "execute_result"
    }
   ],
   "source": [
    "#Solution\n",
    "dfSt = dfstack.unstack(level= 1)\n",
    "dfSt[\"Disease Name\"].head()"
   ]
  },
  {
   "cell_type": "code",
   "execution_count": null,
   "metadata": {},
   "outputs": [],
   "source": []
  },
  {
   "cell_type": "code",
   "execution_count": null,
   "metadata": {},
   "outputs": [],
   "source": []
  }
 ],
 "metadata": {
  "kernelspec": {
   "display_name": "Python 3",
   "language": "python",
   "name": "python3"
  },
  "language_info": {
   "codemirror_mode": {
    "name": "ipython",
    "version": 3
   },
   "file_extension": ".py",
   "mimetype": "text/x-python",
   "name": "python",
   "nbconvert_exporter": "python",
   "pygments_lexer": "ipython3",
   "version": "3.7.0"
  }
 },
 "nbformat": 4,
 "nbformat_minor": 2
}
